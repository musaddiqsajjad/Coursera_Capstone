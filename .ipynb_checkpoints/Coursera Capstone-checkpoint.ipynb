{
 "cells": [
  {
   "cell_type": "markdown",
   "metadata": {},
   "source": [
    "# Coursera IBM Data Science Professional Certificate\n",
    "\n",
    "## Capstone Project\n",
    "\n",
    "This notebook is used for the final capstone project in the IBM Data Sceince Professional Certificate"
   ]
  },
  {
   "cell_type": "code",
   "execution_count": 1,
   "metadata": {},
   "outputs": [],
   "source": [
    "import pandas as pd\n",
    "import numpy as np"
   ]
  },
  {
   "cell_type": "markdown",
   "metadata": {},
   "source": [
    "## 1. Getting NY car crashes data\n",
    "\n",
    "The data was retrieved from the NYC Open Data website. It was filtered to only export rows from 2018 onwards.\n",
    "\n",
    "https://data.cityofnewyork.us/Public-Safety/Motor-Vehicle-Collisions-Crashes/h9gi-nx95/data\n",
    "\n",
    "## 2. Importing into Pandas\n",
    "\n",
    "Let's import this CSV into a Pandas Dataframe"
   ]
  },
  {
   "cell_type": "code",
   "execution_count": 2,
   "metadata": {},
   "outputs": [
    {
     "data": {
      "text/html": [
       "<div>\n",
       "<style scoped>\n",
       "    .dataframe tbody tr th:only-of-type {\n",
       "        vertical-align: middle;\n",
       "    }\n",
       "\n",
       "    .dataframe tbody tr th {\n",
       "        vertical-align: top;\n",
       "    }\n",
       "\n",
       "    .dataframe thead th {\n",
       "        text-align: right;\n",
       "    }\n",
       "</style>\n",
       "<table border=\"1\" class=\"dataframe\">\n",
       "  <thead>\n",
       "    <tr style=\"text-align: right;\">\n",
       "      <th></th>\n",
       "      <th>CRASH DATETIME</th>\n",
       "      <th>BOROUGH</th>\n",
       "      <th>ZIP CODE</th>\n",
       "      <th>LATITUDE</th>\n",
       "      <th>LONGITUDE</th>\n",
       "      <th>LOCATION</th>\n",
       "      <th>ON STREET NAME</th>\n",
       "      <th>CROSS STREET NAME</th>\n",
       "      <th>OFF STREET NAME</th>\n",
       "      <th>NUMBER OF PERSONS INJURED</th>\n",
       "      <th>...</th>\n",
       "      <th>CONTRIBUTING FACTOR VEHICLE 2</th>\n",
       "      <th>CONTRIBUTING FACTOR VEHICLE 3</th>\n",
       "      <th>CONTRIBUTING FACTOR VEHICLE 4</th>\n",
       "      <th>CONTRIBUTING FACTOR VEHICLE 5</th>\n",
       "      <th>COLLISION_ID</th>\n",
       "      <th>VEHICLE TYPE CODE 1</th>\n",
       "      <th>VEHICLE TYPE CODE 2</th>\n",
       "      <th>VEHICLE TYPE CODE 3</th>\n",
       "      <th>VEHICLE TYPE CODE 4</th>\n",
       "      <th>VEHICLE TYPE CODE 5</th>\n",
       "    </tr>\n",
       "  </thead>\n",
       "  <tbody>\n",
       "    <tr>\n",
       "      <th>0</th>\n",
       "      <td>2018-01-01 01:37:00</td>\n",
       "      <td>NaN</td>\n",
       "      <td>NaN</td>\n",
       "      <td>40.662277</td>\n",
       "      <td>-73.910780</td>\n",
       "      <td>(40.662277, -73.91078)</td>\n",
       "      <td>BRISTOL STREET</td>\n",
       "      <td>NaN</td>\n",
       "      <td>NaN</td>\n",
       "      <td>0.0</td>\n",
       "      <td>...</td>\n",
       "      <td>Unspecified</td>\n",
       "      <td>NaN</td>\n",
       "      <td>NaN</td>\n",
       "      <td>NaN</td>\n",
       "      <td>3819254</td>\n",
       "      <td>Sedan</td>\n",
       "      <td>Sedan</td>\n",
       "      <td>NaN</td>\n",
       "      <td>NaN</td>\n",
       "      <td>NaN</td>\n",
       "    </tr>\n",
       "    <tr>\n",
       "      <th>1</th>\n",
       "      <td>2018-01-01 00:27:00</td>\n",
       "      <td>QUEENS</td>\n",
       "      <td>11419.0</td>\n",
       "      <td>40.689133</td>\n",
       "      <td>-73.820860</td>\n",
       "      <td>(40.689133, -73.82086)</td>\n",
       "      <td>124 STREET</td>\n",
       "      <td>103 AVENUE</td>\n",
       "      <td>NaN</td>\n",
       "      <td>0.0</td>\n",
       "      <td>...</td>\n",
       "      <td>Unspecified</td>\n",
       "      <td>NaN</td>\n",
       "      <td>NaN</td>\n",
       "      <td>NaN</td>\n",
       "      <td>3821878</td>\n",
       "      <td>Sedan</td>\n",
       "      <td>Taxi</td>\n",
       "      <td>NaN</td>\n",
       "      <td>NaN</td>\n",
       "      <td>NaN</td>\n",
       "    </tr>\n",
       "    <tr>\n",
       "      <th>2</th>\n",
       "      <td>2018-01-01 14:30:00</td>\n",
       "      <td>NaN</td>\n",
       "      <td>NaN</td>\n",
       "      <td>40.804707</td>\n",
       "      <td>-73.919140</td>\n",
       "      <td>(40.804707, -73.91914)</td>\n",
       "      <td>MAJOR DEEGAN EXPRESSWAY</td>\n",
       "      <td>NaN</td>\n",
       "      <td>NaN</td>\n",
       "      <td>0.0</td>\n",
       "      <td>...</td>\n",
       "      <td>Other Vehicular</td>\n",
       "      <td>NaN</td>\n",
       "      <td>NaN</td>\n",
       "      <td>NaN</td>\n",
       "      <td>3819072</td>\n",
       "      <td>Sedan</td>\n",
       "      <td>Box Truck</td>\n",
       "      <td>NaN</td>\n",
       "      <td>NaN</td>\n",
       "      <td>NaN</td>\n",
       "    </tr>\n",
       "    <tr>\n",
       "      <th>3</th>\n",
       "      <td>2018-01-01 06:07:00</td>\n",
       "      <td>BROOKLYN</td>\n",
       "      <td>11234.0</td>\n",
       "      <td>40.635185</td>\n",
       "      <td>-73.928620</td>\n",
       "      <td>(40.635185, -73.92862)</td>\n",
       "      <td>UTICA AVENUE</td>\n",
       "      <td>GLENWOOD ROAD</td>\n",
       "      <td>NaN</td>\n",
       "      <td>0.0</td>\n",
       "      <td>...</td>\n",
       "      <td>Unspecified</td>\n",
       "      <td>NaN</td>\n",
       "      <td>NaN</td>\n",
       "      <td>NaN</td>\n",
       "      <td>3820948</td>\n",
       "      <td>Station Wagon/Sport Utility Vehicle</td>\n",
       "      <td>Station Wagon/Sport Utility Vehicle</td>\n",
       "      <td>NaN</td>\n",
       "      <td>NaN</td>\n",
       "      <td>NaN</td>\n",
       "    </tr>\n",
       "    <tr>\n",
       "      <th>4</th>\n",
       "      <td>2018-01-01 05:00:00</td>\n",
       "      <td>BROOKLYN</td>\n",
       "      <td>11212.0</td>\n",
       "      <td>40.656220</td>\n",
       "      <td>-73.913155</td>\n",
       "      <td>(40.65622, -73.913155)</td>\n",
       "      <td>EAST 98 STREET</td>\n",
       "      <td>STRAUSS STREET</td>\n",
       "      <td>NaN</td>\n",
       "      <td>0.0</td>\n",
       "      <td>...</td>\n",
       "      <td>NaN</td>\n",
       "      <td>NaN</td>\n",
       "      <td>NaN</td>\n",
       "      <td>NaN</td>\n",
       "      <td>3819289</td>\n",
       "      <td>Sedan</td>\n",
       "      <td>NaN</td>\n",
       "      <td>NaN</td>\n",
       "      <td>NaN</td>\n",
       "      <td>NaN</td>\n",
       "    </tr>\n",
       "  </tbody>\n",
       "</table>\n",
       "<p>5 rows × 28 columns</p>\n",
       "</div>"
      ],
      "text/plain": [
       "       CRASH DATETIME   BOROUGH  ZIP CODE   LATITUDE  LONGITUDE  \\\n",
       "0 2018-01-01 01:37:00       NaN       NaN  40.662277 -73.910780   \n",
       "1 2018-01-01 00:27:00    QUEENS   11419.0  40.689133 -73.820860   \n",
       "2 2018-01-01 14:30:00       NaN       NaN  40.804707 -73.919140   \n",
       "3 2018-01-01 06:07:00  BROOKLYN   11234.0  40.635185 -73.928620   \n",
       "4 2018-01-01 05:00:00  BROOKLYN   11212.0  40.656220 -73.913155   \n",
       "\n",
       "                 LOCATION                    ON STREET NAME CROSS STREET NAME  \\\n",
       "0  (40.662277, -73.91078)  BRISTOL STREET                                 NaN   \n",
       "1  (40.689133, -73.82086)  124 STREET                              103 AVENUE   \n",
       "2  (40.804707, -73.91914)  MAJOR DEEGAN EXPRESSWAY                        NaN   \n",
       "3  (40.635185, -73.92862)  UTICA AVENUE                         GLENWOOD ROAD   \n",
       "4  (40.65622, -73.913155)  EAST 98 STREET                      STRAUSS STREET   \n",
       "\n",
       "  OFF STREET NAME  NUMBER OF PERSONS INJURED  ...  \\\n",
       "0             NaN                        0.0  ...   \n",
       "1             NaN                        0.0  ...   \n",
       "2             NaN                        0.0  ...   \n",
       "3             NaN                        0.0  ...   \n",
       "4             NaN                        0.0  ...   \n",
       "\n",
       "   CONTRIBUTING FACTOR VEHICLE 2  CONTRIBUTING FACTOR VEHICLE 3  \\\n",
       "0                    Unspecified                            NaN   \n",
       "1                    Unspecified                            NaN   \n",
       "2                Other Vehicular                            NaN   \n",
       "3                    Unspecified                            NaN   \n",
       "4                            NaN                            NaN   \n",
       "\n",
       "   CONTRIBUTING FACTOR VEHICLE 4  CONTRIBUTING FACTOR VEHICLE 5  COLLISION_ID  \\\n",
       "0                            NaN                            NaN       3819254   \n",
       "1                            NaN                            NaN       3821878   \n",
       "2                            NaN                            NaN       3819072   \n",
       "3                            NaN                            NaN       3820948   \n",
       "4                            NaN                            NaN       3819289   \n",
       "\n",
       "                   VEHICLE TYPE CODE 1                  VEHICLE TYPE CODE 2  \\\n",
       "0                                Sedan                                Sedan   \n",
       "1                                Sedan                                 Taxi   \n",
       "2                                Sedan                            Box Truck   \n",
       "3  Station Wagon/Sport Utility Vehicle  Station Wagon/Sport Utility Vehicle   \n",
       "4                                Sedan                                  NaN   \n",
       "\n",
       "  VEHICLE TYPE CODE 3 VEHICLE TYPE CODE 4 VEHICLE TYPE CODE 5  \n",
       "0                 NaN                 NaN                 NaN  \n",
       "1                 NaN                 NaN                 NaN  \n",
       "2                 NaN                 NaN                 NaN  \n",
       "3                 NaN                 NaN                 NaN  \n",
       "4                 NaN                 NaN                 NaN  \n",
       "\n",
       "[5 rows x 28 columns]"
      ]
     },
     "execution_count": 2,
     "metadata": {},
     "output_type": "execute_result"
    }
   ],
   "source": [
    "df = pd.read_csv(\"Data/NY_Crashes_From_2018.csv\", parse_dates={\"CRASH DATETIME\":['CRASH DATE', 'CRASH TIME']})\n",
    "\n",
    "df.head()"
   ]
  },
  {
   "cell_type": "markdown",
   "metadata": {},
   "source": [
    "We can see the data mentioned the crash date and time, the location of the crash, as well the causes and injuries and fatalities associated with the crash. It also mentions the types of vehicles in the crash.\n",
    "\n",
    "Let us see the size of the data"
   ]
  },
  {
   "cell_type": "code",
   "execution_count": 3,
   "metadata": {},
   "outputs": [
    {
     "data": {
      "text/plain": [
       "(543420, 28)"
      ]
     },
     "execution_count": 3,
     "metadata": {},
     "output_type": "execute_result"
    }
   ],
   "source": [
    "df.shape"
   ]
  },
  {
   "cell_type": "markdown",
   "metadata": {},
   "source": [
    "It contains ~540k rows and 29 columns.\n",
    "\n",
    "## 3. Cleaning the data\n",
    "\n",
    "Now, we will do some preprocessing to clean the data and get it ready for analysis.\n",
    "\n",
    "Note that since the data is from the US, CRASH DATE is in MM/DD/YYYY format\n",
    "\n",
    "### Removing rows with no Latitude & Longitude data\n",
    "\n",
    "The first step is to remove rows where latitude & longitude are not available, as the location of the crash is going to be vital for this project.\n",
    "\n",
    "We can use the Location column for this task as it is the aggregate of Latitude and Longitude."
   ]
  },
  {
   "cell_type": "code",
   "execution_count": 4,
   "metadata": {},
   "outputs": [
    {
     "data": {
      "text/plain": [
       "(502989, 28)"
      ]
     },
     "execution_count": 4,
     "metadata": {},
     "output_type": "execute_result"
    }
   ],
   "source": [
    "df.dropna(subset=['LOCATION'], inplace=True)\n",
    "\n",
    "df.shape"
   ]
  },
  {
   "cell_type": "markdown",
   "metadata": {},
   "source": [
    "We now have ~500k rows. More than enough."
   ]
  },
  {
   "cell_type": "markdown",
   "metadata": {},
   "source": [
    "### Changing all \"Unspecified\" values to NaN\n",
    "\n",
    "Making it easier to process null values."
   ]
  },
  {
   "cell_type": "code",
   "execution_count": 5,
   "metadata": {},
   "outputs": [],
   "source": [
    "df = df.replace('Unspecified', np.nan)"
   ]
  },
  {
   "attachments": {},
   "cell_type": "markdown",
   "metadata": {},
   "source": [
    "### Dropping extra fatalities and injuries columns\n",
    "\n",
    "We have 8 columns that count the fatalities and injuries in the crash. We don't really need the detail whether it was a motorist, cyclist, or a pedestrian. \n",
    "\n",
    "The \"NUMBER OF PERSONS KILLED\" and \"NUMBER OF PEDESTRIANS INJURED\" columns aggregate the different types and are sufficient for our use."
   ]
  },
  {
   "cell_type": "code",
   "execution_count": 6,
   "metadata": {},
   "outputs": [],
   "source": [
    "df.drop(['NUMBER OF PEDESTRIANS INJURED','NUMBER OF PEDESTRIANS KILLED','NUMBER OF CYCLIST INJURED','NUMBER OF CYCLIST KILLED','NUMBER OF MOTORIST INJURED','NUMBER OF MOTORIST KILLED'], axis='columns', inplace=True)"
   ]
  },
  {
   "cell_type": "markdown",
   "metadata": {},
   "source": [
    "### Dropping extra contributing factors columns\n",
    "\n",
    "There are a lot of columns listing the contributing factors, but we can see that only the first couple of columns have significant data. The dataset does not have a lot of information in the contributing factors 3, 4 and 5 columns."
   ]
  },
  {
   "cell_type": "code",
   "execution_count": 7,
   "metadata": {},
   "outputs": [
    {
     "name": "stdout",
     "output_type": "stream",
     "text": [
      "Count of CONTRIBUTING FACTOR VEHICLE 3 = 2212\n",
      "Count of CONTRIBUTING FACTOR VEHICLE 4 = 409\n",
      "Count of CONTRIBUTING FACTOR VEHICLE 5 = 116\n"
     ]
    }
   ],
   "source": [
    "print(f\"Count of CONTRIBUTING FACTOR VEHICLE 3 = {df['CONTRIBUTING FACTOR VEHICLE 3'].notnull().sum()}\")\n",
    "print(f\"Count of CONTRIBUTING FACTOR VEHICLE 4 = {df['CONTRIBUTING FACTOR VEHICLE 4'].notnull().sum()}\")\n",
    "print(f\"Count of CONTRIBUTING FACTOR VEHICLE 5 = {df['CONTRIBUTING FACTOR VEHICLE 5'].notnull().sum()}\")"
   ]
  },
  {
   "cell_type": "markdown",
   "metadata": {},
   "source": [
    "Considering the total dataset is of ~500k rows, we can consider these columns negligible."
   ]
  },
  {
   "cell_type": "code",
   "execution_count": 8,
   "metadata": {},
   "outputs": [],
   "source": [
    "df.drop(['CONTRIBUTING FACTOR VEHICLE 3', 'CONTRIBUTING FACTOR VEHICLE 4', 'CONTRIBUTING FACTOR VEHICLE 5'], axis = 1, inplace = True)"
   ]
  },
  {
   "cell_type": "markdown",
   "metadata": {},
   "source": [
    "### Dropping extra Vehicle Type Code columns\n",
    "\n",
    "Similarly, there are extra Vehicle Type Code columns 3, 4, and 5 which can be dropped due to the low amount of data."
   ]
  },
  {
   "cell_type": "code",
   "execution_count": 9,
   "metadata": {},
   "outputs": [
    {
     "name": "stdout",
     "output_type": "stream",
     "text": [
      "Count of VEHICLE TYPE CODE 3 = 33295\n",
      "Count of VEHICLE TYPE CODE 4 = 7611\n",
      "Count of VEHICLE TYPE CODE 5 = 2125\n"
     ]
    }
   ],
   "source": [
    "print(f\"Count of VEHICLE TYPE CODE 3 = {df['VEHICLE TYPE CODE 3'].notnull().sum()}\")\n",
    "print(f\"Count of VEHICLE TYPE CODE 4 = {df['VEHICLE TYPE CODE 4'].notnull().sum()}\")\n",
    "print(f\"Count of VEHICLE TYPE CODE 5 = {df['VEHICLE TYPE CODE 5'].notnull().sum()}\")\n",
    "\n",
    "df.drop(['VEHICLE TYPE CODE 3', 'VEHICLE TYPE CODE 4', 'VEHICLE TYPE CODE 5'], axis = 1, inplace = True)"
   ]
  },
  {
   "cell_type": "markdown",
   "metadata": {},
   "source": [
    "### Dropping extra Location columns\n",
    "\n",
    "As it is only an aggregate of Latitude and Longitude columns, we can drop the LOCATIONS columns.\n",
    "\n",
    "Furthermore, as we have the longitutde and latitude, the ON, CROSS, and OFF STREET NAME columns are unnecessary"
   ]
  },
  {
   "cell_type": "code",
   "execution_count": 10,
   "metadata": {},
   "outputs": [],
   "source": [
    "df.drop(['LOCATION', 'ON STREET NAME', 'CROSS STREET NAME', 'OFF STREET NAME', 'BOROUGH', 'ZIP CODE'], axis = 1, inplace = True)"
   ]
  },
  {
   "cell_type": "markdown",
   "metadata": {},
   "source": [
    "### Moving COLLISION ID column to the beginning\n",
    "\n",
    "Just to make things nice to look at."
   ]
  },
  {
   "cell_type": "code",
   "execution_count": 11,
   "metadata": {},
   "outputs": [],
   "source": [
    "df = df[ ['COLLISION_ID'] + [ col for col in df.columns if col != 'COLLISION_ID' ] ]"
   ]
  },
  {
   "cell_type": "markdown",
   "metadata": {},
   "source": [
    "### Resetting the index\n",
    "\n",
    "We deleted some rows so the index doesn't match the rows. Let's fix that."
   ]
  },
  {
   "cell_type": "code",
   "execution_count": 12,
   "metadata": {},
   "outputs": [],
   "source": [
    "df.reset_index(inplace = True, drop = True)"
   ]
  },
  {
   "cell_type": "markdown",
   "metadata": {},
   "source": [
    "### Eyeballing the final dataframe\n",
    "\n",
    "Let's have a look at our cleaned dataframe:"
   ]
  },
  {
   "cell_type": "code",
   "execution_count": 13,
   "metadata": {},
   "outputs": [
    {
     "data": {
      "text/html": [
       "<div>\n",
       "<style scoped>\n",
       "    .dataframe tbody tr th:only-of-type {\n",
       "        vertical-align: middle;\n",
       "    }\n",
       "\n",
       "    .dataframe tbody tr th {\n",
       "        vertical-align: top;\n",
       "    }\n",
       "\n",
       "    .dataframe thead th {\n",
       "        text-align: right;\n",
       "    }\n",
       "</style>\n",
       "<table border=\"1\" class=\"dataframe\">\n",
       "  <thead>\n",
       "    <tr style=\"text-align: right;\">\n",
       "      <th></th>\n",
       "      <th>COLLISION_ID</th>\n",
       "      <th>CRASH DATETIME</th>\n",
       "      <th>LATITUDE</th>\n",
       "      <th>LONGITUDE</th>\n",
       "      <th>NUMBER OF PERSONS INJURED</th>\n",
       "      <th>NUMBER OF PERSONS KILLED</th>\n",
       "      <th>CONTRIBUTING FACTOR VEHICLE 1</th>\n",
       "      <th>CONTRIBUTING FACTOR VEHICLE 2</th>\n",
       "      <th>VEHICLE TYPE CODE 1</th>\n",
       "      <th>VEHICLE TYPE CODE 2</th>\n",
       "    </tr>\n",
       "  </thead>\n",
       "  <tbody>\n",
       "    <tr>\n",
       "      <th>502984</th>\n",
       "      <td>4369083</td>\n",
       "      <td>2020-11-17 08:05:00</td>\n",
       "      <td>40.611774</td>\n",
       "      <td>-74.07069</td>\n",
       "      <td>0.0</td>\n",
       "      <td>0.0</td>\n",
       "      <td>Driver Inattention/Distraction</td>\n",
       "      <td>Driver Inattention/Distraction</td>\n",
       "      <td>Station Wagon/Sport Utility Vehicle</td>\n",
       "      <td>Station Wagon/Sport Utility Vehicle</td>\n",
       "    </tr>\n",
       "    <tr>\n",
       "      <th>502985</th>\n",
       "      <td>4368497</td>\n",
       "      <td>2020-11-17 19:00:00</td>\n",
       "      <td>40.710800</td>\n",
       "      <td>-74.00342</td>\n",
       "      <td>0.0</td>\n",
       "      <td>0.0</td>\n",
       "      <td>NaN</td>\n",
       "      <td>NaN</td>\n",
       "      <td>Sedan</td>\n",
       "      <td>Box Truck</td>\n",
       "    </tr>\n",
       "    <tr>\n",
       "      <th>502986</th>\n",
       "      <td>4368866</td>\n",
       "      <td>2020-11-17 01:00:00</td>\n",
       "      <td>40.686844</td>\n",
       "      <td>-73.90945</td>\n",
       "      <td>0.0</td>\n",
       "      <td>0.0</td>\n",
       "      <td>View Obstructed/Limited</td>\n",
       "      <td>NaN</td>\n",
       "      <td>Station Wagon/Sport Utility Vehicle</td>\n",
       "      <td>NaN</td>\n",
       "    </tr>\n",
       "    <tr>\n",
       "      <th>502987</th>\n",
       "      <td>4368579</td>\n",
       "      <td>2020-11-17 17:15:00</td>\n",
       "      <td>40.856613</td>\n",
       "      <td>-73.86864</td>\n",
       "      <td>0.0</td>\n",
       "      <td>0.0</td>\n",
       "      <td>Driver Inattention/Distraction</td>\n",
       "      <td>Driver Inattention/Distraction</td>\n",
       "      <td>Station Wagon/Sport Utility Vehicle</td>\n",
       "      <td>Station Wagon/Sport Utility Vehicle</td>\n",
       "    </tr>\n",
       "    <tr>\n",
       "      <th>502988</th>\n",
       "      <td>4368547</td>\n",
       "      <td>2020-11-17 18:00:00</td>\n",
       "      <td>40.760742</td>\n",
       "      <td>-73.95693</td>\n",
       "      <td>0.0</td>\n",
       "      <td>0.0</td>\n",
       "      <td>Driver Inattention/Distraction</td>\n",
       "      <td>NaN</td>\n",
       "      <td>Sedan</td>\n",
       "      <td>Sedan</td>\n",
       "    </tr>\n",
       "  </tbody>\n",
       "</table>\n",
       "</div>"
      ],
      "text/plain": [
       "        COLLISION_ID      CRASH DATETIME   LATITUDE  LONGITUDE  \\\n",
       "502984       4369083 2020-11-17 08:05:00  40.611774  -74.07069   \n",
       "502985       4368497 2020-11-17 19:00:00  40.710800  -74.00342   \n",
       "502986       4368866 2020-11-17 01:00:00  40.686844  -73.90945   \n",
       "502987       4368579 2020-11-17 17:15:00  40.856613  -73.86864   \n",
       "502988       4368547 2020-11-17 18:00:00  40.760742  -73.95693   \n",
       "\n",
       "        NUMBER OF PERSONS INJURED  NUMBER OF PERSONS KILLED  \\\n",
       "502984                        0.0                       0.0   \n",
       "502985                        0.0                       0.0   \n",
       "502986                        0.0                       0.0   \n",
       "502987                        0.0                       0.0   \n",
       "502988                        0.0                       0.0   \n",
       "\n",
       "         CONTRIBUTING FACTOR VEHICLE 1   CONTRIBUTING FACTOR VEHICLE 2  \\\n",
       "502984  Driver Inattention/Distraction  Driver Inattention/Distraction   \n",
       "502985                             NaN                             NaN   \n",
       "502986         View Obstructed/Limited                             NaN   \n",
       "502987  Driver Inattention/Distraction  Driver Inattention/Distraction   \n",
       "502988  Driver Inattention/Distraction                             NaN   \n",
       "\n",
       "                        VEHICLE TYPE CODE 1  \\\n",
       "502984  Station Wagon/Sport Utility Vehicle   \n",
       "502985                                Sedan   \n",
       "502986  Station Wagon/Sport Utility Vehicle   \n",
       "502987  Station Wagon/Sport Utility Vehicle   \n",
       "502988                                Sedan   \n",
       "\n",
       "                        VEHICLE TYPE CODE 2  \n",
       "502984  Station Wagon/Sport Utility Vehicle  \n",
       "502985                            Box Truck  \n",
       "502986                                  NaN  \n",
       "502987  Station Wagon/Sport Utility Vehicle  \n",
       "502988                                Sedan  "
      ]
     },
     "execution_count": 13,
     "metadata": {},
     "output_type": "execute_result"
    }
   ],
   "source": [
    "df.tail()"
   ]
  },
  {
   "cell_type": "markdown",
   "metadata": {},
   "source": [
    "## 4. Initial statistical exploration of NYC crashes\n",
    "\n",
    "Now is a good time to do some initial exploration and develop a sense of the data trends.\n",
    "\n",
    "### Number of Crashes by Year"
   ]
  },
  {
   "cell_type": "code",
   "execution_count": 19,
   "metadata": {},
   "outputs": [
    {
     "data": {
      "text/html": [
       "<div>\n",
       "<style scoped>\n",
       "    .dataframe tbody tr th:only-of-type {\n",
       "        vertical-align: middle;\n",
       "    }\n",
       "\n",
       "    .dataframe tbody tr th {\n",
       "        vertical-align: top;\n",
       "    }\n",
       "\n",
       "    .dataframe thead th {\n",
       "        text-align: right;\n",
       "    }\n",
       "</style>\n",
       "<table border=\"1\" class=\"dataframe\">\n",
       "  <thead>\n",
       "    <tr style=\"text-align: right;\">\n",
       "      <th></th>\n",
       "      <th>TOTAL CRASHES</th>\n",
       "      <th>NUMBER OF PERSONS INJURED</th>\n",
       "      <th>NUMBER OF PERSONS KILLED</th>\n",
       "      <th>INJURY RATE</th>\n",
       "      <th>FATALITY RATE</th>\n",
       "    </tr>\n",
       "    <tr>\n",
       "      <th>CRASH DATETIME</th>\n",
       "      <th></th>\n",
       "      <th></th>\n",
       "      <th></th>\n",
       "      <th></th>\n",
       "      <th></th>\n",
       "    </tr>\n",
       "  </thead>\n",
       "  <tbody>\n",
       "    <tr>\n",
       "      <th>2018</th>\n",
       "      <td>216443</td>\n",
       "      <td>58016.0</td>\n",
       "      <td>217.0</td>\n",
       "      <td>26.804286</td>\n",
       "      <td>0.100257</td>\n",
       "    </tr>\n",
       "    <tr>\n",
       "      <th>2019</th>\n",
       "      <td>194111</td>\n",
       "      <td>55907.0</td>\n",
       "      <td>227.0</td>\n",
       "      <td>28.801562</td>\n",
       "      <td>0.116943</td>\n",
       "    </tr>\n",
       "    <tr>\n",
       "      <th>2020</th>\n",
       "      <td>92435</td>\n",
       "      <td>35819.0</td>\n",
       "      <td>202.0</td>\n",
       "      <td>38.750473</td>\n",
       "      <td>0.218532</td>\n",
       "    </tr>\n",
       "  </tbody>\n",
       "</table>\n",
       "</div>"
      ],
      "text/plain": [
       "                TOTAL CRASHES  NUMBER OF PERSONS INJURED  \\\n",
       "CRASH DATETIME                                             \n",
       "2018                   216443                    58016.0   \n",
       "2019                   194111                    55907.0   \n",
       "2020                    92435                    35819.0   \n",
       "\n",
       "                NUMBER OF PERSONS KILLED  INJURY RATE  FATALITY RATE  \n",
       "CRASH DATETIME                                                        \n",
       "2018                               217.0    26.804286       0.100257  \n",
       "2019                               227.0    28.801562       0.116943  \n",
       "2020                               202.0    38.750473       0.218532  "
      ]
     },
     "execution_count": 19,
     "metadata": {},
     "output_type": "execute_result"
    }
   ],
   "source": [
    "yearly_stats = df[[\"CRASH DATETIME\", \"NUMBER OF PERSONS INJURED\", \"NUMBER OF PERSONS KILLED\"]]\n",
    "yearly_stats = yearly_stats.groupby(yearly_stats['CRASH DATETIME'].map(lambda x: x.year)).sum() \n",
    "yearly_crashes_count = df.groupby(df['CRASH DATETIME'].map(lambda x: x.year)).count()\n",
    "yearly_stats[\"TOTAL CRASHES\"] = yearly_crashes_count['CRASH DATETIME']\n",
    "yearly_stats[\"INJURY RATE\"] = (yearly_stats[\"NUMBER OF PERSONS INJURED\"]/yearly_stats[\"TOTAL CRASHES\"])* 100\n",
    "yearly_stats[\"FATALITY RATE\"] = (yearly_stats[\"NUMBER OF PERSONS KILLED\"]/yearly_stats[\"TOTAL CRASHES\"])* 100\n",
    "yearly_stats = yearly_stats[ ['TOTAL CRASHES'] + [ col for col in yearly_stats.columns if col != 'TOTAL CRASHES' ] ]\n",
    "yearly_stats"
   ]
  },
  {
   "cell_type": "markdown",
   "metadata": {},
   "source": [
    "We can see that in 2018 and 2018, around 26-28% of crashes resulted in an injury, and around 0.1% of crashes resulted in a death.\n",
    "\n",
    "This trend seems to have increased in 2020. There are lesser crashes, but they seem to be deadlier, looking at the higher injury and fatality rates/\n",
    "\n",
    "There are a few important factors to consider in 2020:\n",
    "    - The data is only available upto November 17, 2020\n",
    "    - Due to the COVID-19 pandemic, there were periods of lockdown with less drivers and people on the road\n",
    "    - Hospital services might have been underperforming due to COVID-19\n",
    "    - Due to larger sample size, the data in 2018 and 2019 includes more accidents with no injuries and fatalities which skews the data\n",
    "\n",
    "Considering November 17 is almost the end of the year, we can approximate 2020 as a full year.\n",
    "\n",
    "Let's plot that."
   ]
  },
  {
   "cell_type": "code",
   "execution_count": 20,
   "metadata": {},
   "outputs": [
    {
     "data": {
      "text/plain": [
       "<matplotlib.axes._subplots.AxesSubplot at 0x7fe4223b9370>"
      ]
     },
     "execution_count": 20,
     "metadata": {},
     "output_type": "execute_result"
    },
    {
     "data": {
      "image/png": "[encoded data removed]",
      "text/plain": [
       "<Figure size 432x288 with 1 Axes>"
      ]
     },
     "metadata": {
      "needs_background": "light"
     },
     "output_type": "display_data"
    },
    {
     "data": {
      "image/png": "[encoded data removed]",
      "text/plain": [
       "<Figure size 432x288 with 1 Axes>"
      ]
     },
     "metadata": {
      "needs_background": "light"
     },
     "output_type": "display_data"
    },
    {
     "data": {
      "image/png": "[encoded data removed]",
      "text/plain": [
       "<Figure size 432x288 with 1 Axes>"
      ]
     },
     "metadata": {
      "needs_background": "light"
     },
     "output_type": "display_data"
    }
   ],
   "source": [
    "yearly_stats.plot(y = [\"TOTAL CRASHES\"], kind = \"bar\", title = \"NYC Car Crash Count by Year\")\n",
    "yearly_stats.plot(y = [\"INJURY RATE\"], kind = \"bar\", title = \"NYC Car Crash Injury Rate by Year\")\n",
    "yearly_stats.plot(y = [\"FATALITY RATE\"], kind = \"bar\", title = \"NYC Car Crash Fatality Rate by Year\")"
   ]
  },
  {
   "cell_type": "code",
   "execution_count": null,
   "metadata": {},
   "outputs": [],
   "source": []
  },
  {
   "cell_type": "code",
   "execution_count": null,
   "metadata": {},
   "outputs": [],
   "source": []
  }
 ],
 "metadata": {
  "kernelspec": {
   "display_name": "Python 3",
   "language": "python",
   "name": "python3"
  },
  "language_info": {
   "codemirror_mode": {
    "name": "ipython",
    "version": 3
   },
   "file_extension": ".py",
   "mimetype": "text/x-python",
   "name": "python",
   "nbconvert_exporter": "python",
   "pygments_lexer": "ipython3",
   "version": "3.8.3"
  }
 },
 "nbformat": 4,
 "nbformat_minor": 4
}
