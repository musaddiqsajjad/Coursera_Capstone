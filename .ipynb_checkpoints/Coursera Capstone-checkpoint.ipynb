{
 "cells": [
  {
   "cell_type": "markdown",
   "metadata": {},
   "source": [
    "# Coursera IBM Data Science Professional Certificate\n",
    "\n",
    "## Capstone Project\n",
    "\n",
    "This notebook is used for the final capstone project in the IBM Data Sceince Professional Certificate"
   ]
  },
  {
   "cell_type": "code",
   "execution_count": 1,
   "metadata": {},
   "outputs": [],
   "source": [
    "import pandas as pd\n",
    "import numpy as np"
   ]
  },
  {
   "cell_type": "markdown",
   "metadata": {},
   "source": [
    "## 1. Getting NY car crashes data\n",
    "\n",
    "The data was retrieved from the NYC Open Data website. It was filtered to only export rows from 2018 onwards.\n",
    "\n",
    "https://data.cityofnewyork.us/Public-Safety/Motor-Vehicle-Collisions-Crashes/h9gi-nx95/data\n",
    "\n",
    "## 2. Importing into Pandas\n",
    "\n",
    "Let's import this CSV into a Pandas Dataframe"
   ]
  },
  {
   "cell_type": "code",
   "execution_count": 2,
   "metadata": {},
   "outputs": [
    {
     "data": {
      "text/html": [
       "<div>\n",
       "<style scoped>\n",
       "    .dataframe tbody tr th:only-of-type {\n",
       "        vertical-align: middle;\n",
       "    }\n",
       "\n",
       "    .dataframe tbody tr th {\n",
       "        vertical-align: top;\n",
       "    }\n",
       "\n",
       "    .dataframe thead th {\n",
       "        text-align: right;\n",
       "    }\n",
       "</style>\n",
       "<table border=\"1\" class=\"dataframe\">\n",
       "  <thead>\n",
       "    <tr style=\"text-align: right;\">\n",
       "      <th></th>\n",
       "      <th>CRASH DATE</th>\n",
       "      <th>CRASH TIME</th>\n",
       "      <th>BOROUGH</th>\n",
       "      <th>ZIP CODE</th>\n",
       "      <th>LATITUDE</th>\n",
       "      <th>LONGITUDE</th>\n",
       "      <th>LOCATION</th>\n",
       "      <th>ON STREET NAME</th>\n",
       "      <th>CROSS STREET NAME</th>\n",
       "      <th>OFF STREET NAME</th>\n",
       "      <th>...</th>\n",
       "      <th>CONTRIBUTING FACTOR VEHICLE 2</th>\n",
       "      <th>CONTRIBUTING FACTOR VEHICLE 3</th>\n",
       "      <th>CONTRIBUTING FACTOR VEHICLE 4</th>\n",
       "      <th>CONTRIBUTING FACTOR VEHICLE 5</th>\n",
       "      <th>COLLISION_ID</th>\n",
       "      <th>VEHICLE TYPE CODE 1</th>\n",
       "      <th>VEHICLE TYPE CODE 2</th>\n",
       "      <th>VEHICLE TYPE CODE 3</th>\n",
       "      <th>VEHICLE TYPE CODE 4</th>\n",
       "      <th>VEHICLE TYPE CODE 5</th>\n",
       "    </tr>\n",
       "  </thead>\n",
       "  <tbody>\n",
       "    <tr>\n",
       "      <th>0</th>\n",
       "      <td>01/01/2018</td>\n",
       "      <td>1:37</td>\n",
       "      <td>NaN</td>\n",
       "      <td>NaN</td>\n",
       "      <td>40.662277</td>\n",
       "      <td>-73.910780</td>\n",
       "      <td>(40.662277, -73.91078)</td>\n",
       "      <td>BRISTOL STREET</td>\n",
       "      <td>NaN</td>\n",
       "      <td>NaN</td>\n",
       "      <td>...</td>\n",
       "      <td>Unspecified</td>\n",
       "      <td>NaN</td>\n",
       "      <td>NaN</td>\n",
       "      <td>NaN</td>\n",
       "      <td>3819254</td>\n",
       "      <td>Sedan</td>\n",
       "      <td>Sedan</td>\n",
       "      <td>NaN</td>\n",
       "      <td>NaN</td>\n",
       "      <td>NaN</td>\n",
       "    </tr>\n",
       "    <tr>\n",
       "      <th>1</th>\n",
       "      <td>01/01/2018</td>\n",
       "      <td>0:27</td>\n",
       "      <td>QUEENS</td>\n",
       "      <td>11419.0</td>\n",
       "      <td>40.689133</td>\n",
       "      <td>-73.820860</td>\n",
       "      <td>(40.689133, -73.82086)</td>\n",
       "      <td>124 STREET</td>\n",
       "      <td>103 AVENUE</td>\n",
       "      <td>NaN</td>\n",
       "      <td>...</td>\n",
       "      <td>Unspecified</td>\n",
       "      <td>NaN</td>\n",
       "      <td>NaN</td>\n",
       "      <td>NaN</td>\n",
       "      <td>3821878</td>\n",
       "      <td>Sedan</td>\n",
       "      <td>Taxi</td>\n",
       "      <td>NaN</td>\n",
       "      <td>NaN</td>\n",
       "      <td>NaN</td>\n",
       "    </tr>\n",
       "    <tr>\n",
       "      <th>2</th>\n",
       "      <td>01/01/2018</td>\n",
       "      <td>14:30</td>\n",
       "      <td>NaN</td>\n",
       "      <td>NaN</td>\n",
       "      <td>40.804707</td>\n",
       "      <td>-73.919140</td>\n",
       "      <td>(40.804707, -73.91914)</td>\n",
       "      <td>MAJOR DEEGAN EXPRESSWAY</td>\n",
       "      <td>NaN</td>\n",
       "      <td>NaN</td>\n",
       "      <td>...</td>\n",
       "      <td>Other Vehicular</td>\n",
       "      <td>NaN</td>\n",
       "      <td>NaN</td>\n",
       "      <td>NaN</td>\n",
       "      <td>3819072</td>\n",
       "      <td>Sedan</td>\n",
       "      <td>Box Truck</td>\n",
       "      <td>NaN</td>\n",
       "      <td>NaN</td>\n",
       "      <td>NaN</td>\n",
       "    </tr>\n",
       "    <tr>\n",
       "      <th>3</th>\n",
       "      <td>01/01/2018</td>\n",
       "      <td>6:07</td>\n",
       "      <td>BROOKLYN</td>\n",
       "      <td>11234.0</td>\n",
       "      <td>40.635185</td>\n",
       "      <td>-73.928620</td>\n",
       "      <td>(40.635185, -73.92862)</td>\n",
       "      <td>UTICA AVENUE</td>\n",
       "      <td>GLENWOOD ROAD</td>\n",
       "      <td>NaN</td>\n",
       "      <td>...</td>\n",
       "      <td>Unspecified</td>\n",
       "      <td>NaN</td>\n",
       "      <td>NaN</td>\n",
       "      <td>NaN</td>\n",
       "      <td>3820948</td>\n",
       "      <td>Station Wagon/Sport Utility Vehicle</td>\n",
       "      <td>Station Wagon/Sport Utility Vehicle</td>\n",
       "      <td>NaN</td>\n",
       "      <td>NaN</td>\n",
       "      <td>NaN</td>\n",
       "    </tr>\n",
       "    <tr>\n",
       "      <th>4</th>\n",
       "      <td>01/01/2018</td>\n",
       "      <td>5:00</td>\n",
       "      <td>BROOKLYN</td>\n",
       "      <td>11212.0</td>\n",
       "      <td>40.656220</td>\n",
       "      <td>-73.913155</td>\n",
       "      <td>(40.65622, -73.913155)</td>\n",
       "      <td>EAST 98 STREET</td>\n",
       "      <td>STRAUSS STREET</td>\n",
       "      <td>NaN</td>\n",
       "      <td>...</td>\n",
       "      <td>NaN</td>\n",
       "      <td>NaN</td>\n",
       "      <td>NaN</td>\n",
       "      <td>NaN</td>\n",
       "      <td>3819289</td>\n",
       "      <td>Sedan</td>\n",
       "      <td>NaN</td>\n",
       "      <td>NaN</td>\n",
       "      <td>NaN</td>\n",
       "      <td>NaN</td>\n",
       "    </tr>\n",
       "  </tbody>\n",
       "</table>\n",
       "<p>5 rows × 29 columns</p>\n",
       "</div>"
      ],
      "text/plain": [
       "   CRASH DATE CRASH TIME   BOROUGH  ZIP CODE   LATITUDE  LONGITUDE  \\\n",
       "0  01/01/2018       1:37       NaN       NaN  40.662277 -73.910780   \n",
       "1  01/01/2018       0:27    QUEENS   11419.0  40.689133 -73.820860   \n",
       "2  01/01/2018      14:30       NaN       NaN  40.804707 -73.919140   \n",
       "3  01/01/2018       6:07  BROOKLYN   11234.0  40.635185 -73.928620   \n",
       "4  01/01/2018       5:00  BROOKLYN   11212.0  40.656220 -73.913155   \n",
       "\n",
       "                 LOCATION                    ON STREET NAME CROSS STREET NAME  \\\n",
       "0  (40.662277, -73.91078)  BRISTOL STREET                                 NaN   \n",
       "1  (40.689133, -73.82086)  124 STREET                              103 AVENUE   \n",
       "2  (40.804707, -73.91914)  MAJOR DEEGAN EXPRESSWAY                        NaN   \n",
       "3  (40.635185, -73.92862)  UTICA AVENUE                         GLENWOOD ROAD   \n",
       "4  (40.65622, -73.913155)  EAST 98 STREET                      STRAUSS STREET   \n",
       "\n",
       "  OFF STREET NAME  ...  CONTRIBUTING FACTOR VEHICLE 2  \\\n",
       "0             NaN  ...                    Unspecified   \n",
       "1             NaN  ...                    Unspecified   \n",
       "2             NaN  ...                Other Vehicular   \n",
       "3             NaN  ...                    Unspecified   \n",
       "4             NaN  ...                            NaN   \n",
       "\n",
       "   CONTRIBUTING FACTOR VEHICLE 3  CONTRIBUTING FACTOR VEHICLE 4  \\\n",
       "0                            NaN                            NaN   \n",
       "1                            NaN                            NaN   \n",
       "2                            NaN                            NaN   \n",
       "3                            NaN                            NaN   \n",
       "4                            NaN                            NaN   \n",
       "\n",
       "   CONTRIBUTING FACTOR VEHICLE 5  COLLISION_ID  \\\n",
       "0                            NaN       3819254   \n",
       "1                            NaN       3821878   \n",
       "2                            NaN       3819072   \n",
       "3                            NaN       3820948   \n",
       "4                            NaN       3819289   \n",
       "\n",
       "                   VEHICLE TYPE CODE 1                  VEHICLE TYPE CODE 2  \\\n",
       "0                                Sedan                                Sedan   \n",
       "1                                Sedan                                 Taxi   \n",
       "2                                Sedan                            Box Truck   \n",
       "3  Station Wagon/Sport Utility Vehicle  Station Wagon/Sport Utility Vehicle   \n",
       "4                                Sedan                                  NaN   \n",
       "\n",
       "   VEHICLE TYPE CODE 3 VEHICLE TYPE CODE 4 VEHICLE TYPE CODE 5  \n",
       "0                  NaN                 NaN                 NaN  \n",
       "1                  NaN                 NaN                 NaN  \n",
       "2                  NaN                 NaN                 NaN  \n",
       "3                  NaN                 NaN                 NaN  \n",
       "4                  NaN                 NaN                 NaN  \n",
       "\n",
       "[5 rows x 29 columns]"
      ]
     },
     "execution_count": 2,
     "metadata": {},
     "output_type": "execute_result"
    }
   ],
   "source": [
    "df = pd.read_csv(\"Data/NY_Crashes_From_2018.csv\")\n",
    "\n",
    "df.head()"
   ]
  },
  {
   "cell_type": "markdown",
   "metadata": {},
   "source": [
    "We can see the data mentioned the crash date and time, the location of the crash, as well the causes and injuries and fatalities associated with the crash. It also mentions the types of vehicles in the crash.\n",
    "\n",
    "Let us see the size of the data"
   ]
  },
  {
   "cell_type": "code",
   "execution_count": 3,
   "metadata": {},
   "outputs": [
    {
     "data": {
      "text/plain": [
       "(543420, 29)"
      ]
     },
     "execution_count": 3,
     "metadata": {},
     "output_type": "execute_result"
    }
   ],
   "source": [
    "df.shape"
   ]
  },
  {
   "cell_type": "markdown",
   "metadata": {},
   "source": [
    "It contains ~540k rows and 29 columns.\n",
    "\n",
    "## 3. Cleaning the data\n",
    "\n",
    "Now, we will do some preprocessing to clean the data and get it ready for analysis.\n",
    "\n",
    "Note that since the data is from the US, CRASH DATE is in MM/DD/YYYY format\n",
    "\n",
    "### Removing rows with no Latitude & Longitude data\n",
    "\n",
    "The first step is to remove rows where latitude & longitude are not available, as the location of the crash is going to be vital for this project.\n",
    "\n",
    "We can use the Location column for this task as it is the aggregate of Latitude and Longitude."
   ]
  },
  {
   "cell_type": "code",
   "execution_count": 4,
   "metadata": {},
   "outputs": [
    {
     "data": {
      "text/plain": [
       "(502989, 29)"
      ]
     },
     "execution_count": 4,
     "metadata": {},
     "output_type": "execute_result"
    }
   ],
   "source": [
    "df.dropna(subset=['LOCATION'], inplace=True)\n",
    "\n",
    "df.shape"
   ]
  },
  {
   "cell_type": "markdown",
   "metadata": {},
   "source": [
    "We now have ~500k rows. More than enough."
   ]
  },
  {
   "cell_type": "markdown",
   "metadata": {},
   "source": [
    "### Changing all \"Unspecified\" values to NaN\n",
    "\n",
    "Making it easier to process null values."
   ]
  },
  {
   "cell_type": "code",
   "execution_count": 5,
   "metadata": {},
   "outputs": [],
   "source": [
    "df = df.replace('Unspecified', np.nan)"
   ]
  },
  {
   "attachments": {},
   "cell_type": "markdown",
   "metadata": {},
   "source": [
    "### Dropping extra fatalities and injuries columns\n",
    "\n",
    "We have 8 columns that count the fatalities and injuries in the crash. We don't really need the detail whether it was a motorist, cyclist, or a pedestrian. \n",
    "\n",
    "The \"NUMBER OF PERSONS KILLED\" and \"NUMBER OF PEDESTRIANS INJURED\" columns aggregate the different types and are sufficient for our use."
   ]
  },
  {
   "cell_type": "code",
   "execution_count": 6,
   "metadata": {},
   "outputs": [],
   "source": [
    "df.drop(['NUMBER OF PEDESTRIANS INJURED','NUMBER OF PEDESTRIANS KILLED','NUMBER OF CYCLIST INJURED','NUMBER OF CYCLIST KILLED','NUMBER OF MOTORIST INJURED','NUMBER OF MOTORIST KILLED'], axis='columns', inplace=True)"
   ]
  },
  {
   "cell_type": "markdown",
   "metadata": {},
   "source": [
    "### Dropping extra contributing factors columns\n",
    "\n",
    "There are a lot of columns listing the contributing factors, but we can see that only the first couple of columns have significant data. The dataset does not have a lot of information in the contributing factors 3, 4 and 5 columns."
   ]
  },
  {
   "cell_type": "code",
   "execution_count": 7,
   "metadata": {},
   "outputs": [
    {
     "name": "stdout",
     "output_type": "stream",
     "text": [
      "Count of CONTRIBUTING FACTOR VEHICLE 3 = 2212\n",
      "Count of CONTRIBUTING FACTOR VEHICLE 4 = 409\n",
      "Count of CONTRIBUTING FACTOR VEHICLE 5 = 116\n"
     ]
    }
   ],
   "source": [
    "print(f\"Count of CONTRIBUTING FACTOR VEHICLE 3 = {df['CONTRIBUTING FACTOR VEHICLE 3'].notnull().sum()}\")\n",
    "print(f\"Count of CONTRIBUTING FACTOR VEHICLE 4 = {df['CONTRIBUTING FACTOR VEHICLE 4'].notnull().sum()}\")\n",
    "print(f\"Count of CONTRIBUTING FACTOR VEHICLE 5 = {df['CONTRIBUTING FACTOR VEHICLE 5'].notnull().sum()}\")"
   ]
  },
  {
   "cell_type": "markdown",
   "metadata": {},
   "source": [
    "Considering the total dataset is of ~500k rows, we can consider these columns negligible."
   ]
  },
  {
   "cell_type": "code",
   "execution_count": 8,
   "metadata": {},
   "outputs": [],
   "source": [
    "df.drop(['CONTRIBUTING FACTOR VEHICLE 3', 'CONTRIBUTING FACTOR VEHICLE 4', 'CONTRIBUTING FACTOR VEHICLE 5'], axis = 1, inplace = True)"
   ]
  },
  {
   "cell_type": "markdown",
   "metadata": {},
   "source": [
    "### Dropping extra Vehicle Type Code columns\n",
    "\n",
    "Similarly, there are extra Vehicle Type Code columns 3, 4, and 5 which can be dropped due to the low amount of data."
   ]
  },
  {
   "cell_type": "code",
   "execution_count": 9,
   "metadata": {},
   "outputs": [
    {
     "name": "stdout",
     "output_type": "stream",
     "text": [
      "Count of VEHICLE TYPE CODE 3 = 33295\n",
      "Count of VEHICLE TYPE CODE 4 = 7611\n",
      "Count of VEHICLE TYPE CODE 5 = 2125\n"
     ]
    }
   ],
   "source": [
    "print(f\"Count of VEHICLE TYPE CODE 3 = {df['VEHICLE TYPE CODE 3'].notnull().sum()}\")\n",
    "print(f\"Count of VEHICLE TYPE CODE 4 = {df['VEHICLE TYPE CODE 4'].notnull().sum()}\")\n",
    "print(f\"Count of VEHICLE TYPE CODE 5 = {df['VEHICLE TYPE CODE 5'].notnull().sum()}\")\n",
    "\n",
    "df.drop(['VEHICLE TYPE CODE 3', 'VEHICLE TYPE CODE 4', 'VEHICLE TYPE CODE 5'], axis = 1, inplace = True)"
   ]
  },
  {
   "cell_type": "markdown",
   "metadata": {},
   "source": [
    "### Dropping extra Location columns\n",
    "\n",
    "As it is only an aggregate of Latitude and Longitude columns, we can drop the LOCATIONS columns.\n",
    "\n",
    "Furthermore, as we have the longitutde and latitude, the ON, CROSS, and OFF STREET NAME columns are unnecessary"
   ]
  },
  {
   "cell_type": "code",
   "execution_count": 10,
   "metadata": {},
   "outputs": [],
   "source": [
    "df.drop(['LOCATION', 'ON STREET NAME', 'CROSS STREET NAME', 'OFF STREET NAME', 'BOROUGH', 'ZIP CODE'], axis = 1, inplace = True)"
   ]
  },
  {
   "cell_type": "markdown",
   "metadata": {},
   "source": [
    "### Moving COLLISION ID column to the beginning\n",
    "\n",
    "Just to make things nice to look at."
   ]
  },
  {
   "cell_type": "code",
   "execution_count": 11,
   "metadata": {},
   "outputs": [],
   "source": [
    "df = df[ ['COLLISION_ID'] + [ col for col in df.columns if col != 'COLLISION_ID' ] ]"
   ]
  },
  {
   "cell_type": "markdown",
   "metadata": {},
   "source": [
    "### Resetting the index\n",
    "\n",
    "We deleted some rows so the index doesn't match the rows. Let's fix that."
   ]
  },
  {
   "cell_type": "code",
   "execution_count": 12,
   "metadata": {},
   "outputs": [],
   "source": [
    "df.reset_index(inplace = True, drop = True)"
   ]
  },
  {
   "cell_type": "markdown",
   "metadata": {},
   "source": [
    "### Eyeballing the final dataframe\n",
    "\n",
    "Let's have a look at our cleaned dataframe:"
   ]
  },
  {
   "cell_type": "code",
   "execution_count": 13,
   "metadata": {},
   "outputs": [
    {
     "data": {
      "text/html": [
       "<div>\n",
       "<style scoped>\n",
       "    .dataframe tbody tr th:only-of-type {\n",
       "        vertical-align: middle;\n",
       "    }\n",
       "\n",
       "    .dataframe tbody tr th {\n",
       "        vertical-align: top;\n",
       "    }\n",
       "\n",
       "    .dataframe thead th {\n",
       "        text-align: right;\n",
       "    }\n",
       "</style>\n",
       "<table border=\"1\" class=\"dataframe\">\n",
       "  <thead>\n",
       "    <tr style=\"text-align: right;\">\n",
       "      <th></th>\n",
       "      <th>COLLISION_ID</th>\n",
       "      <th>CRASH DATE</th>\n",
       "      <th>CRASH TIME</th>\n",
       "      <th>LATITUDE</th>\n",
       "      <th>LONGITUDE</th>\n",
       "      <th>NUMBER OF PERSONS INJURED</th>\n",
       "      <th>NUMBER OF PERSONS KILLED</th>\n",
       "      <th>CONTRIBUTING FACTOR VEHICLE 1</th>\n",
       "      <th>CONTRIBUTING FACTOR VEHICLE 2</th>\n",
       "      <th>VEHICLE TYPE CODE 1</th>\n",
       "      <th>VEHICLE TYPE CODE 2</th>\n",
       "    </tr>\n",
       "  </thead>\n",
       "  <tbody>\n",
       "    <tr>\n",
       "      <th>502984</th>\n",
       "      <td>4369083</td>\n",
       "      <td>11/17/2020</td>\n",
       "      <td>8:05</td>\n",
       "      <td>40.611774</td>\n",
       "      <td>-74.07069</td>\n",
       "      <td>0.0</td>\n",
       "      <td>0.0</td>\n",
       "      <td>Driver Inattention/Distraction</td>\n",
       "      <td>Driver Inattention/Distraction</td>\n",
       "      <td>Station Wagon/Sport Utility Vehicle</td>\n",
       "      <td>Station Wagon/Sport Utility Vehicle</td>\n",
       "    </tr>\n",
       "    <tr>\n",
       "      <th>502985</th>\n",
       "      <td>4368497</td>\n",
       "      <td>11/17/2020</td>\n",
       "      <td>19:00</td>\n",
       "      <td>40.710800</td>\n",
       "      <td>-74.00342</td>\n",
       "      <td>0.0</td>\n",
       "      <td>0.0</td>\n",
       "      <td>NaN</td>\n",
       "      <td>NaN</td>\n",
       "      <td>Sedan</td>\n",
       "      <td>Box Truck</td>\n",
       "    </tr>\n",
       "    <tr>\n",
       "      <th>502986</th>\n",
       "      <td>4368866</td>\n",
       "      <td>11/17/2020</td>\n",
       "      <td>1:00</td>\n",
       "      <td>40.686844</td>\n",
       "      <td>-73.90945</td>\n",
       "      <td>0.0</td>\n",
       "      <td>0.0</td>\n",
       "      <td>View Obstructed/Limited</td>\n",
       "      <td>NaN</td>\n",
       "      <td>Station Wagon/Sport Utility Vehicle</td>\n",
       "      <td>NaN</td>\n",
       "    </tr>\n",
       "    <tr>\n",
       "      <th>502987</th>\n",
       "      <td>4368579</td>\n",
       "      <td>11/17/2020</td>\n",
       "      <td>17:15</td>\n",
       "      <td>40.856613</td>\n",
       "      <td>-73.86864</td>\n",
       "      <td>0.0</td>\n",
       "      <td>0.0</td>\n",
       "      <td>Driver Inattention/Distraction</td>\n",
       "      <td>Driver Inattention/Distraction</td>\n",
       "      <td>Station Wagon/Sport Utility Vehicle</td>\n",
       "      <td>Station Wagon/Sport Utility Vehicle</td>\n",
       "    </tr>\n",
       "    <tr>\n",
       "      <th>502988</th>\n",
       "      <td>4368547</td>\n",
       "      <td>11/17/2020</td>\n",
       "      <td>18:00</td>\n",
       "      <td>40.760742</td>\n",
       "      <td>-73.95693</td>\n",
       "      <td>0.0</td>\n",
       "      <td>0.0</td>\n",
       "      <td>Driver Inattention/Distraction</td>\n",
       "      <td>NaN</td>\n",
       "      <td>Sedan</td>\n",
       "      <td>Sedan</td>\n",
       "    </tr>\n",
       "  </tbody>\n",
       "</table>\n",
       "</div>"
      ],
      "text/plain": [
       "        COLLISION_ID  CRASH DATE CRASH TIME   LATITUDE  LONGITUDE  \\\n",
       "502984       4369083  11/17/2020       8:05  40.611774  -74.07069   \n",
       "502985       4368497  11/17/2020      19:00  40.710800  -74.00342   \n",
       "502986       4368866  11/17/2020       1:00  40.686844  -73.90945   \n",
       "502987       4368579  11/17/2020      17:15  40.856613  -73.86864   \n",
       "502988       4368547  11/17/2020      18:00  40.760742  -73.95693   \n",
       "\n",
       "        NUMBER OF PERSONS INJURED  NUMBER OF PERSONS KILLED  \\\n",
       "502984                        0.0                       0.0   \n",
       "502985                        0.0                       0.0   \n",
       "502986                        0.0                       0.0   \n",
       "502987                        0.0                       0.0   \n",
       "502988                        0.0                       0.0   \n",
       "\n",
       "         CONTRIBUTING FACTOR VEHICLE 1   CONTRIBUTING FACTOR VEHICLE 2  \\\n",
       "502984  Driver Inattention/Distraction  Driver Inattention/Distraction   \n",
       "502985                             NaN                             NaN   \n",
       "502986         View Obstructed/Limited                             NaN   \n",
       "502987  Driver Inattention/Distraction  Driver Inattention/Distraction   \n",
       "502988  Driver Inattention/Distraction                             NaN   \n",
       "\n",
       "                        VEHICLE TYPE CODE 1  \\\n",
       "502984  Station Wagon/Sport Utility Vehicle   \n",
       "502985                                Sedan   \n",
       "502986  Station Wagon/Sport Utility Vehicle   \n",
       "502987  Station Wagon/Sport Utility Vehicle   \n",
       "502988                                Sedan   \n",
       "\n",
       "                        VEHICLE TYPE CODE 2  \n",
       "502984  Station Wagon/Sport Utility Vehicle  \n",
       "502985                            Box Truck  \n",
       "502986                                  NaN  \n",
       "502987  Station Wagon/Sport Utility Vehicle  \n",
       "502988                                Sedan  "
      ]
     },
     "execution_count": 13,
     "metadata": {},
     "output_type": "execute_result"
    }
   ],
   "source": [
    "df.tail()"
   ]
  },
  {
   "cell_type": "code",
   "execution_count": null,
   "metadata": {},
   "outputs": [],
   "source": [
    "#sample Musaddiq "
   ]
  },
  {
   "cell_type": "code",
   "execution_count": null,
   "metadata": {},
   "outputs": [],
   "source": []
  }
 ],
 "metadata": {
  "kernelspec": {
   "display_name": "Python 3",
   "language": "python",
   "name": "python3"
  },
  "language_info": {
   "codemirror_mode": {
    "name": "ipython",
    "version": 3
   },
   "file_extension": ".py",
   "mimetype": "text/x-python",
   "name": "python",
   "nbconvert_exporter": "python",
   "pygments_lexer": "ipython3",
   "version": "3.8.3"
  }
 },
 "nbformat": 4,
 "nbformat_minor": 4
}
