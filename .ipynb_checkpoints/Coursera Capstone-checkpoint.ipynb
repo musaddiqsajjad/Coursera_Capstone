{
 "cells": [
  {
   "cell_type": "markdown",
   "metadata": {},
   "source": [
    "# Coursera IBM Data Science Professional Certificate\n",
    "\n",
    "## Capstone Project\n",
    "\n",
    "This notebook is used for the final capstone project in the IBM Data Sceince Professional Certificate"
   ]
  },
  {
   "cell_type": "code",
   "execution_count": 1,
   "metadata": {},
   "outputs": [
    {
     "name": "stdout",
     "output_type": "stream",
     "text": [
      "Libraries Imported.\n"
     ]
    }
   ],
   "source": [
    "import pandas as pd\n",
    "import numpy as np\n",
    "import seaborn as sns\n",
    "import matplotlib.pyplot as plt\n",
    "import calmap\n",
    "\n",
    "print(\"Libraries Imported.\")"
   ]
  },
  {
   "cell_type": "markdown",
   "metadata": {},
   "source": [
    "## 1. Getting NY car crashes data\n",
    "\n",
    "The data was retrieved from the NYC Open Data website. It was filtered to only export rows from 2018 onwards.\n",
    "\n",
    "https://data.cityofnewyork.us/Public-Safety/Motor-Vehicle-Collisions-Crashes/h9gi-nx95/data\n",
    "\n",
    "## 2. Importing into Pandas\n",
    "\n",
    "Let's import this CSV into a Pandas Dataframe"
   ]
  },
  {
   "cell_type": "code",
   "execution_count": 2,
   "metadata": {},
   "outputs": [
    {
     "data": {
      "text/html": [
       "<div>\n",
       "<style scoped>\n",
       "    .dataframe tbody tr th:only-of-type {\n",
       "        vertical-align: middle;\n",
       "    }\n",
       "\n",
       "    .dataframe tbody tr th {\n",
       "        vertical-align: top;\n",
       "    }\n",
       "\n",
       "    .dataframe thead th {\n",
       "        text-align: right;\n",
       "    }\n",
       "</style>\n",
       "<table border=\"1\" class=\"dataframe\">\n",
       "  <thead>\n",
       "    <tr style=\"text-align: right;\">\n",
       "      <th></th>\n",
       "      <th>CRASH DATETIME</th>\n",
       "      <th>BOROUGH</th>\n",
       "      <th>ZIP CODE</th>\n",
       "      <th>LATITUDE</th>\n",
       "      <th>LONGITUDE</th>\n",
       "      <th>LOCATION</th>\n",
       "      <th>ON STREET NAME</th>\n",
       "      <th>CROSS STREET NAME</th>\n",
       "      <th>OFF STREET NAME</th>\n",
       "      <th>NUMBER OF PERSONS INJURED</th>\n",
       "      <th>...</th>\n",
       "      <th>CONTRIBUTING FACTOR VEHICLE 2</th>\n",
       "      <th>CONTRIBUTING FACTOR VEHICLE 3</th>\n",
       "      <th>CONTRIBUTING FACTOR VEHICLE 4</th>\n",
       "      <th>CONTRIBUTING FACTOR VEHICLE 5</th>\n",
       "      <th>COLLISION_ID</th>\n",
       "      <th>VEHICLE TYPE CODE 1</th>\n",
       "      <th>VEHICLE TYPE CODE 2</th>\n",
       "      <th>VEHICLE TYPE CODE 3</th>\n",
       "      <th>VEHICLE TYPE CODE 4</th>\n",
       "      <th>VEHICLE TYPE CODE 5</th>\n",
       "    </tr>\n",
       "  </thead>\n",
       "  <tbody>\n",
       "    <tr>\n",
       "      <th>0</th>\n",
       "      <td>2018-01-01 01:37:00</td>\n",
       "      <td>NaN</td>\n",
       "      <td>NaN</td>\n",
       "      <td>40.662277</td>\n",
       "      <td>-73.910780</td>\n",
       "      <td>(40.662277, -73.91078)</td>\n",
       "      <td>BRISTOL STREET</td>\n",
       "      <td>NaN</td>\n",
       "      <td>NaN</td>\n",
       "      <td>0.0</td>\n",
       "      <td>...</td>\n",
       "      <td>Unspecified</td>\n",
       "      <td>NaN</td>\n",
       "      <td>NaN</td>\n",
       "      <td>NaN</td>\n",
       "      <td>3819254</td>\n",
       "      <td>Sedan</td>\n",
       "      <td>Sedan</td>\n",
       "      <td>NaN</td>\n",
       "      <td>NaN</td>\n",
       "      <td>NaN</td>\n",
       "    </tr>\n",
       "    <tr>\n",
       "      <th>1</th>\n",
       "      <td>2018-01-01 00:27:00</td>\n",
       "      <td>QUEENS</td>\n",
       "      <td>11419.0</td>\n",
       "      <td>40.689133</td>\n",
       "      <td>-73.820860</td>\n",
       "      <td>(40.689133, -73.82086)</td>\n",
       "      <td>124 STREET</td>\n",
       "      <td>103 AVENUE</td>\n",
       "      <td>NaN</td>\n",
       "      <td>0.0</td>\n",
       "      <td>...</td>\n",
       "      <td>Unspecified</td>\n",
       "      <td>NaN</td>\n",
       "      <td>NaN</td>\n",
       "      <td>NaN</td>\n",
       "      <td>3821878</td>\n",
       "      <td>Sedan</td>\n",
       "      <td>Taxi</td>\n",
       "      <td>NaN</td>\n",
       "      <td>NaN</td>\n",
       "      <td>NaN</td>\n",
       "    </tr>\n",
       "    <tr>\n",
       "      <th>2</th>\n",
       "      <td>2018-01-01 14:30:00</td>\n",
       "      <td>NaN</td>\n",
       "      <td>NaN</td>\n",
       "      <td>40.804707</td>\n",
       "      <td>-73.919140</td>\n",
       "      <td>(40.804707, -73.91914)</td>\n",
       "      <td>MAJOR DEEGAN EXPRESSWAY</td>\n",
       "      <td>NaN</td>\n",
       "      <td>NaN</td>\n",
       "      <td>0.0</td>\n",
       "      <td>...</td>\n",
       "      <td>Other Vehicular</td>\n",
       "      <td>NaN</td>\n",
       "      <td>NaN</td>\n",
       "      <td>NaN</td>\n",
       "      <td>3819072</td>\n",
       "      <td>Sedan</td>\n",
       "      <td>Box Truck</td>\n",
       "      <td>NaN</td>\n",
       "      <td>NaN</td>\n",
       "      <td>NaN</td>\n",
       "    </tr>\n",
       "    <tr>\n",
       "      <th>3</th>\n",
       "      <td>2018-01-01 06:07:00</td>\n",
       "      <td>BROOKLYN</td>\n",
       "      <td>11234.0</td>\n",
       "      <td>40.635185</td>\n",
       "      <td>-73.928620</td>\n",
       "      <td>(40.635185, -73.92862)</td>\n",
       "      <td>UTICA AVENUE</td>\n",
       "      <td>GLENWOOD ROAD</td>\n",
       "      <td>NaN</td>\n",
       "      <td>0.0</td>\n",
       "      <td>...</td>\n",
       "      <td>Unspecified</td>\n",
       "      <td>NaN</td>\n",
       "      <td>NaN</td>\n",
       "      <td>NaN</td>\n",
       "      <td>3820948</td>\n",
       "      <td>Station Wagon/Sport Utility Vehicle</td>\n",
       "      <td>Station Wagon/Sport Utility Vehicle</td>\n",
       "      <td>NaN</td>\n",
       "      <td>NaN</td>\n",
       "      <td>NaN</td>\n",
       "    </tr>\n",
       "    <tr>\n",
       "      <th>4</th>\n",
       "      <td>2018-01-01 05:00:00</td>\n",
       "      <td>BROOKLYN</td>\n",
       "      <td>11212.0</td>\n",
       "      <td>40.656220</td>\n",
       "      <td>-73.913155</td>\n",
       "      <td>(40.65622, -73.913155)</td>\n",
       "      <td>EAST 98 STREET</td>\n",
       "      <td>STRAUSS STREET</td>\n",
       "      <td>NaN</td>\n",
       "      <td>0.0</td>\n",
       "      <td>...</td>\n",
       "      <td>NaN</td>\n",
       "      <td>NaN</td>\n",
       "      <td>NaN</td>\n",
       "      <td>NaN</td>\n",
       "      <td>3819289</td>\n",
       "      <td>Sedan</td>\n",
       "      <td>NaN</td>\n",
       "      <td>NaN</td>\n",
       "      <td>NaN</td>\n",
       "      <td>NaN</td>\n",
       "    </tr>\n",
       "  </tbody>\n",
       "</table>\n",
       "<p>5 rows × 28 columns</p>\n",
       "</div>"
      ],
      "text/plain": [
       "       CRASH DATETIME   BOROUGH  ZIP CODE   LATITUDE  LONGITUDE  \\\n",
       "0 2018-01-01 01:37:00       NaN       NaN  40.662277 -73.910780   \n",
       "1 2018-01-01 00:27:00    QUEENS   11419.0  40.689133 -73.820860   \n",
       "2 2018-01-01 14:30:00       NaN       NaN  40.804707 -73.919140   \n",
       "3 2018-01-01 06:07:00  BROOKLYN   11234.0  40.635185 -73.928620   \n",
       "4 2018-01-01 05:00:00  BROOKLYN   11212.0  40.656220 -73.913155   \n",
       "\n",
       "                 LOCATION                    ON STREET NAME CROSS STREET NAME  \\\n",
       "0  (40.662277, -73.91078)  BRISTOL STREET                                 NaN   \n",
       "1  (40.689133, -73.82086)  124 STREET                              103 AVENUE   \n",
       "2  (40.804707, -73.91914)  MAJOR DEEGAN EXPRESSWAY                        NaN   \n",
       "3  (40.635185, -73.92862)  UTICA AVENUE                         GLENWOOD ROAD   \n",
       "4  (40.65622, -73.913155)  EAST 98 STREET                      STRAUSS STREET   \n",
       "\n",
       "  OFF STREET NAME  NUMBER OF PERSONS INJURED  ...  \\\n",
       "0             NaN                        0.0  ...   \n",
       "1             NaN                        0.0  ...   \n",
       "2             NaN                        0.0  ...   \n",
       "3             NaN                        0.0  ...   \n",
       "4             NaN                        0.0  ...   \n",
       "\n",
       "   CONTRIBUTING FACTOR VEHICLE 2  CONTRIBUTING FACTOR VEHICLE 3  \\\n",
       "0                    Unspecified                            NaN   \n",
       "1                    Unspecified                            NaN   \n",
       "2                Other Vehicular                            NaN   \n",
       "3                    Unspecified                            NaN   \n",
       "4                            NaN                            NaN   \n",
       "\n",
       "   CONTRIBUTING FACTOR VEHICLE 4  CONTRIBUTING FACTOR VEHICLE 5  COLLISION_ID  \\\n",
       "0                            NaN                            NaN       3819254   \n",
       "1                            NaN                            NaN       3821878   \n",
       "2                            NaN                            NaN       3819072   \n",
       "3                            NaN                            NaN       3820948   \n",
       "4                            NaN                            NaN       3819289   \n",
       "\n",
       "                   VEHICLE TYPE CODE 1                  VEHICLE TYPE CODE 2  \\\n",
       "0                                Sedan                                Sedan   \n",
       "1                                Sedan                                 Taxi   \n",
       "2                                Sedan                            Box Truck   \n",
       "3  Station Wagon/Sport Utility Vehicle  Station Wagon/Sport Utility Vehicle   \n",
       "4                                Sedan                                  NaN   \n",
       "\n",
       "  VEHICLE TYPE CODE 3 VEHICLE TYPE CODE 4 VEHICLE TYPE CODE 5  \n",
       "0                 NaN                 NaN                 NaN  \n",
       "1                 NaN                 NaN                 NaN  \n",
       "2                 NaN                 NaN                 NaN  \n",
       "3                 NaN                 NaN                 NaN  \n",
       "4                 NaN                 NaN                 NaN  \n",
       "\n",
       "[5 rows x 28 columns]"
      ]
     },
     "execution_count": 2,
     "metadata": {},
     "output_type": "execute_result"
    }
   ],
   "source": [
    "df = pd.read_csv(\"Data/NY_Crashes_From_2018.csv\", parse_dates={\"CRASH DATETIME\":['CRASH DATE', 'CRASH TIME']})\n",
    "\n",
    "df.head()"
   ]
  },
  {
   "cell_type": "markdown",
   "metadata": {},
   "source": [
    "We can see the data mentioned the crash date and time, the location of the crash, as well the causes and injuries and fatalities associated with the crash. It also mentions the types of vehicles in the crash.\n",
    "\n",
    "Let us see the size of the data"
   ]
  },
  {
   "cell_type": "code",
   "execution_count": 3,
   "metadata": {},
   "outputs": [
    {
     "data": {
      "text/plain": [
       "(543420, 28)"
      ]
     },
     "execution_count": 3,
     "metadata": {},
     "output_type": "execute_result"
    }
   ],
   "source": [
    "df.shape"
   ]
  },
  {
   "cell_type": "markdown",
   "metadata": {},
   "source": [
    "It contains ~540k rows and 28 columns.\n",
    "\n",
    "## 3. Cleaning the data\n",
    "\n",
    "Now, we will do some preprocessing to clean the data and get it ready for analysis.\n",
    "\n",
    "Note that since the data is from the US, CRASH DATE is in MM/DD/YYYY format\n",
    "\n",
    "### Removing rows with no Latitude & Longitude data\n",
    "\n",
    "The first step is to remove rows where latitude & longitude are not available, as the location of the crash is going to be vital for this project.\n",
    "\n",
    "We can use the Location column for this task as it is the aggregate of Latitude and Longitude."
   ]
  },
  {
   "cell_type": "code",
   "execution_count": 4,
   "metadata": {},
   "outputs": [
    {
     "data": {
      "text/plain": [
       "(502989, 28)"
      ]
     },
     "execution_count": 4,
     "metadata": {},
     "output_type": "execute_result"
    }
   ],
   "source": [
    "df.dropna(subset=['LOCATION'], inplace=True)\n",
    "\n",
    "df.shape"
   ]
  },
  {
   "cell_type": "markdown",
   "metadata": {},
   "source": [
    "We now have ~500k rows. More than enough."
   ]
  },
  {
   "cell_type": "markdown",
   "metadata": {},
   "source": [
    "### Changing all \"Unspecified\" values to NaN\n",
    "\n",
    "Making it easier to process null values."
   ]
  },
  {
   "cell_type": "code",
   "execution_count": 5,
   "metadata": {},
   "outputs": [],
   "source": [
    "df = df.replace('Unspecified', np.nan)"
   ]
  },
  {
   "cell_type": "markdown",
   "metadata": {},
   "source": [
    "### Dropping extra fatalities and injuries columns\n",
    "\n",
    "We have 8 columns that count the fatalities and injuries in the crash. We don't really need the detail whether it was a motorist, cyclist, or a pedestrian. \n",
    "\n",
    "The \"NUMBER OF PERSONS KILLED\" and \"NUMBER OF PEDESTRIANS INJURED\" columns aggregate the different types and are sufficient for our use."
   ]
  },
  {
   "cell_type": "code",
   "execution_count": 6,
   "metadata": {},
   "outputs": [],
   "source": [
    "df.drop(['NUMBER OF PEDESTRIANS INJURED','NUMBER OF PEDESTRIANS KILLED','NUMBER OF CYCLIST INJURED','NUMBER OF CYCLIST KILLED','NUMBER OF MOTORIST INJURED','NUMBER OF MOTORIST KILLED'], axis='columns', inplace=True)"
   ]
  },
  {
   "cell_type": "markdown",
   "metadata": {},
   "source": [
    "### Dropping extra contributing factors columns\n",
    "\n",
    "There are a lot of columns listing the contributing factors, but we can see that only the first couple of columns have significant data. The dataset does not have a lot of information in the contributing factors 3, 4 and 5 columns."
   ]
  },
  {
   "cell_type": "code",
   "execution_count": 7,
   "metadata": {},
   "outputs": [
    {
     "name": "stdout",
     "output_type": "stream",
     "text": [
      "Count of CONTRIBUTING FACTOR VEHICLE 3 = 2212\n",
      "Count of CONTRIBUTING FACTOR VEHICLE 4 = 409\n",
      "Count of CONTRIBUTING FACTOR VEHICLE 5 = 116\n"
     ]
    }
   ],
   "source": [
    "print(f\"Count of CONTRIBUTING FACTOR VEHICLE 3 = {df['CONTRIBUTING FACTOR VEHICLE 3'].notnull().sum()}\")\n",
    "print(f\"Count of CONTRIBUTING FACTOR VEHICLE 4 = {df['CONTRIBUTING FACTOR VEHICLE 4'].notnull().sum()}\")\n",
    "print(f\"Count of CONTRIBUTING FACTOR VEHICLE 5 = {df['CONTRIBUTING FACTOR VEHICLE 5'].notnull().sum()}\")"
   ]
  },
  {
   "cell_type": "markdown",
   "metadata": {},
   "source": [
    "Considering the total dataset is of ~500k rows, we can consider these columns negligible."
   ]
  },
  {
   "cell_type": "code",
   "execution_count": 8,
   "metadata": {},
   "outputs": [],
   "source": [
    "df.drop(['CONTRIBUTING FACTOR VEHICLE 3', 'CONTRIBUTING FACTOR VEHICLE 4', 'CONTRIBUTING FACTOR VEHICLE 5'], axis = 1, inplace = True)"
   ]
  },
  {
   "cell_type": "markdown",
   "metadata": {},
   "source": [
    "### Dropping extra Vehicle Type Code columns\n",
    "\n",
    "Similarly, there are extra Vehicle Type Code columns 3, 4, and 5 which can be dropped due to the low amount of data."
   ]
  },
  {
   "cell_type": "code",
   "execution_count": 9,
   "metadata": {},
   "outputs": [
    {
     "name": "stdout",
     "output_type": "stream",
     "text": [
      "Count of VEHICLE TYPE CODE 3 = 33295\n",
      "Count of VEHICLE TYPE CODE 4 = 7611\n",
      "Count of VEHICLE TYPE CODE 5 = 2125\n"
     ]
    }
   ],
   "source": [
    "print(f\"Count of VEHICLE TYPE CODE 3 = {df['VEHICLE TYPE CODE 3'].notnull().sum()}\")\n",
    "print(f\"Count of VEHICLE TYPE CODE 4 = {df['VEHICLE TYPE CODE 4'].notnull().sum()}\")\n",
    "print(f\"Count of VEHICLE TYPE CODE 5 = {df['VEHICLE TYPE CODE 5'].notnull().sum()}\")\n",
    "\n",
    "df.drop(['VEHICLE TYPE CODE 3', 'VEHICLE TYPE CODE 4', 'VEHICLE TYPE CODE 5'], axis = 1, inplace = True)"
   ]
  },
  {
   "cell_type": "markdown",
   "metadata": {},
   "source": [
    "### Dropping extra Location columns\n",
    "\n",
    "As it is only an aggregate of Latitude and Longitude columns, we can drop the LOCATION columns.\n",
    "\n",
    "Furthermore, as we have the longitutde and latitude, the ON, CROSS, and OFF STREET NAME columns are unnecessary"
   ]
  },
  {
   "cell_type": "code",
   "execution_count": 10,
   "metadata": {},
   "outputs": [],
   "source": [
    "df.drop(['LOCATION', 'ON STREET NAME', 'CROSS STREET NAME', 'OFF STREET NAME', 'BOROUGH', 'ZIP CODE'], axis = 1, inplace = True)"
   ]
  },
  {
   "cell_type": "markdown",
   "metadata": {},
   "source": [
    "### Moving COLLISION ID column to the beginning\n",
    "\n",
    "Just to make things nice to look at."
   ]
  },
  {
   "cell_type": "code",
   "execution_count": 11,
   "metadata": {},
   "outputs": [],
   "source": [
    "df = df[ ['COLLISION_ID'] + [ col for col in df.columns if col != 'COLLISION_ID' ] ]"
   ]
  },
  {
   "cell_type": "markdown",
   "metadata": {},
   "source": [
    "### Converting Injuries and Fatalities from float to int and removing NaNs\n",
    "\n",
    "For nicer graphing."
   ]
  },
  {
   "cell_type": "code",
   "execution_count": 12,
   "metadata": {},
   "outputs": [],
   "source": [
    "df[\"NUMBER OF PERSONS INJURED\"] = df[\"NUMBER OF PERSONS INJURED\"].fillna(0)\n",
    "df[\"NUMBER OF PERSONS KILLED\"] = df[\"NUMBER OF PERSONS KILLED\"].fillna(0)\n",
    "df[\"NUMBER OF PERSONS INJURED\"] = df[\"NUMBER OF PERSONS INJURED\"].astype(int)\n",
    "df[\"NUMBER OF PERSONS KILLED\"] = df[\"NUMBER OF PERSONS KILLED\"].astype(int)"
   ]
  },
  {
   "cell_type": "markdown",
   "metadata": {},
   "source": [
    "### Resetting the index\n",
    "\n",
    "We deleted some rows so the index doesn't match the rows. Let's fix that."
   ]
  },
  {
   "cell_type": "code",
   "execution_count": 13,
   "metadata": {},
   "outputs": [],
   "source": [
    "df.reset_index(inplace = True, drop = True)"
   ]
  },
  {
   "cell_type": "markdown",
   "metadata": {},
   "source": [
    "### Eyeballing the final dataframe\n",
    "\n",
    "Let's have a look at our cleaned dataframe:"
   ]
  },
  {
   "cell_type": "code",
   "execution_count": 14,
   "metadata": {},
   "outputs": [
    {
     "data": {
      "text/html": [
       "<div>\n",
       "<style scoped>\n",
       "    .dataframe tbody tr th:only-of-type {\n",
       "        vertical-align: middle;\n",
       "    }\n",
       "\n",
       "    .dataframe tbody tr th {\n",
       "        vertical-align: top;\n",
       "    }\n",
       "\n",
       "    .dataframe thead th {\n",
       "        text-align: right;\n",
       "    }\n",
       "</style>\n",
       "<table border=\"1\" class=\"dataframe\">\n",
       "  <thead>\n",
       "    <tr style=\"text-align: right;\">\n",
       "      <th></th>\n",
       "      <th>COLLISION_ID</th>\n",
       "      <th>CRASH DATETIME</th>\n",
       "      <th>LATITUDE</th>\n",
       "      <th>LONGITUDE</th>\n",
       "      <th>NUMBER OF PERSONS INJURED</th>\n",
       "      <th>NUMBER OF PERSONS KILLED</th>\n",
       "      <th>CONTRIBUTING FACTOR VEHICLE 1</th>\n",
       "      <th>CONTRIBUTING FACTOR VEHICLE 2</th>\n",
       "      <th>VEHICLE TYPE CODE 1</th>\n",
       "      <th>VEHICLE TYPE CODE 2</th>\n",
       "    </tr>\n",
       "  </thead>\n",
       "  <tbody>\n",
       "    <tr>\n",
       "      <th>502984</th>\n",
       "      <td>4369083</td>\n",
       "      <td>2020-11-17 08:05:00</td>\n",
       "      <td>40.611774</td>\n",
       "      <td>-74.07069</td>\n",
       "      <td>0</td>\n",
       "      <td>0</td>\n",
       "      <td>Driver Inattention/Distraction</td>\n",
       "      <td>Driver Inattention/Distraction</td>\n",
       "      <td>Station Wagon/Sport Utility Vehicle</td>\n",
       "      <td>Station Wagon/Sport Utility Vehicle</td>\n",
       "    </tr>\n",
       "    <tr>\n",
       "      <th>502985</th>\n",
       "      <td>4368497</td>\n",
       "      <td>2020-11-17 19:00:00</td>\n",
       "      <td>40.710800</td>\n",
       "      <td>-74.00342</td>\n",
       "      <td>0</td>\n",
       "      <td>0</td>\n",
       "      <td>NaN</td>\n",
       "      <td>NaN</td>\n",
       "      <td>Sedan</td>\n",
       "      <td>Box Truck</td>\n",
       "    </tr>\n",
       "    <tr>\n",
       "      <th>502986</th>\n",
       "      <td>4368866</td>\n",
       "      <td>2020-11-17 01:00:00</td>\n",
       "      <td>40.686844</td>\n",
       "      <td>-73.90945</td>\n",
       "      <td>0</td>\n",
       "      <td>0</td>\n",
       "      <td>View Obstructed/Limited</td>\n",
       "      <td>NaN</td>\n",
       "      <td>Station Wagon/Sport Utility Vehicle</td>\n",
       "      <td>NaN</td>\n",
       "    </tr>\n",
       "    <tr>\n",
       "      <th>502987</th>\n",
       "      <td>4368579</td>\n",
       "      <td>2020-11-17 17:15:00</td>\n",
       "      <td>40.856613</td>\n",
       "      <td>-73.86864</td>\n",
       "      <td>0</td>\n",
       "      <td>0</td>\n",
       "      <td>Driver Inattention/Distraction</td>\n",
       "      <td>Driver Inattention/Distraction</td>\n",
       "      <td>Station Wagon/Sport Utility Vehicle</td>\n",
       "      <td>Station Wagon/Sport Utility Vehicle</td>\n",
       "    </tr>\n",
       "    <tr>\n",
       "      <th>502988</th>\n",
       "      <td>4368547</td>\n",
       "      <td>2020-11-17 18:00:00</td>\n",
       "      <td>40.760742</td>\n",
       "      <td>-73.95693</td>\n",
       "      <td>0</td>\n",
       "      <td>0</td>\n",
       "      <td>Driver Inattention/Distraction</td>\n",
       "      <td>NaN</td>\n",
       "      <td>Sedan</td>\n",
       "      <td>Sedan</td>\n",
       "    </tr>\n",
       "  </tbody>\n",
       "</table>\n",
       "</div>"
      ],
      "text/plain": [
       "        COLLISION_ID      CRASH DATETIME   LATITUDE  LONGITUDE  \\\n",
       "502984       4369083 2020-11-17 08:05:00  40.611774  -74.07069   \n",
       "502985       4368497 2020-11-17 19:00:00  40.710800  -74.00342   \n",
       "502986       4368866 2020-11-17 01:00:00  40.686844  -73.90945   \n",
       "502987       4368579 2020-11-17 17:15:00  40.856613  -73.86864   \n",
       "502988       4368547 2020-11-17 18:00:00  40.760742  -73.95693   \n",
       "\n",
       "        NUMBER OF PERSONS INJURED  NUMBER OF PERSONS KILLED  \\\n",
       "502984                          0                         0   \n",
       "502985                          0                         0   \n",
       "502986                          0                         0   \n",
       "502987                          0                         0   \n",
       "502988                          0                         0   \n",
       "\n",
       "         CONTRIBUTING FACTOR VEHICLE 1   CONTRIBUTING FACTOR VEHICLE 2  \\\n",
       "502984  Driver Inattention/Distraction  Driver Inattention/Distraction   \n",
       "502985                             NaN                             NaN   \n",
       "502986         View Obstructed/Limited                             NaN   \n",
       "502987  Driver Inattention/Distraction  Driver Inattention/Distraction   \n",
       "502988  Driver Inattention/Distraction                             NaN   \n",
       "\n",
       "                        VEHICLE TYPE CODE 1  \\\n",
       "502984  Station Wagon/Sport Utility Vehicle   \n",
       "502985                                Sedan   \n",
       "502986  Station Wagon/Sport Utility Vehicle   \n",
       "502987  Station Wagon/Sport Utility Vehicle   \n",
       "502988                                Sedan   \n",
       "\n",
       "                        VEHICLE TYPE CODE 2  \n",
       "502984  Station Wagon/Sport Utility Vehicle  \n",
       "502985                            Box Truck  \n",
       "502986                                  NaN  \n",
       "502987  Station Wagon/Sport Utility Vehicle  \n",
       "502988                                Sedan  "
      ]
     },
     "execution_count": 14,
     "metadata": {},
     "output_type": "execute_result"
    }
   ],
   "source": [
    "df.tail()"
   ]
  },
  {
   "cell_type": "markdown",
   "metadata": {},
   "source": [
    "## 4. Initial statistical exploration of NYC crashes\n",
    "\n",
    "Now is a good time to do some initial exploration and develop a sense of the data trends.\n",
    "\n",
    "### Number of Crashes by Year"
   ]
  },
  {
   "cell_type": "code",
   "execution_count": 15,
   "metadata": {},
   "outputs": [
    {
     "data": {
      "text/html": [
       "<div>\n",
       "<style scoped>\n",
       "    .dataframe tbody tr th:only-of-type {\n",
       "        vertical-align: middle;\n",
       "    }\n",
       "\n",
       "    .dataframe tbody tr th {\n",
       "        vertical-align: top;\n",
       "    }\n",
       "\n",
       "    .dataframe thead th {\n",
       "        text-align: right;\n",
       "    }\n",
       "</style>\n",
       "<table border=\"1\" class=\"dataframe\">\n",
       "  <thead>\n",
       "    <tr style=\"text-align: right;\">\n",
       "      <th></th>\n",
       "      <th>TOTAL CRASHES</th>\n",
       "      <th>NUMBER OF PERSONS INJURED</th>\n",
       "      <th>NUMBER OF PERSONS KILLED</th>\n",
       "      <th>INJURY RATE</th>\n",
       "      <th>FATALITY RATE</th>\n",
       "    </tr>\n",
       "    <tr>\n",
       "      <th>CRASH DATETIME</th>\n",
       "      <th></th>\n",
       "      <th></th>\n",
       "      <th></th>\n",
       "      <th></th>\n",
       "      <th></th>\n",
       "    </tr>\n",
       "  </thead>\n",
       "  <tbody>\n",
       "    <tr>\n",
       "      <th>2018</th>\n",
       "      <td>216443</td>\n",
       "      <td>58016</td>\n",
       "      <td>217</td>\n",
       "      <td>26.804286</td>\n",
       "      <td>0.100257</td>\n",
       "    </tr>\n",
       "    <tr>\n",
       "      <th>2019</th>\n",
       "      <td>194111</td>\n",
       "      <td>55907</td>\n",
       "      <td>227</td>\n",
       "      <td>28.801562</td>\n",
       "      <td>0.116943</td>\n",
       "    </tr>\n",
       "    <tr>\n",
       "      <th>2020</th>\n",
       "      <td>92435</td>\n",
       "      <td>35819</td>\n",
       "      <td>202</td>\n",
       "      <td>38.750473</td>\n",
       "      <td>0.218532</td>\n",
       "    </tr>\n",
       "  </tbody>\n",
       "</table>\n",
       "</div>"
      ],
      "text/plain": [
       "                TOTAL CRASHES  NUMBER OF PERSONS INJURED  \\\n",
       "CRASH DATETIME                                             \n",
       "2018                   216443                      58016   \n",
       "2019                   194111                      55907   \n",
       "2020                    92435                      35819   \n",
       "\n",
       "                NUMBER OF PERSONS KILLED  INJURY RATE  FATALITY RATE  \n",
       "CRASH DATETIME                                                        \n",
       "2018                                 217    26.804286       0.100257  \n",
       "2019                                 227    28.801562       0.116943  \n",
       "2020                                 202    38.750473       0.218532  "
      ]
     },
     "execution_count": 15,
     "metadata": {},
     "output_type": "execute_result"
    }
   ],
   "source": [
    "#defining new yearly dataframe\n",
    "yearly_stats = df[[\"CRASH DATETIME\", \"NUMBER OF PERSONS INJURED\", \"NUMBER OF PERSONS KILLED\"]]\n",
    "\n",
    "#grouping by year and getting total crashes per year\n",
    "yearly_stats = yearly_stats.groupby(yearly_stats['CRASH DATETIME'].map(lambda x: x.year)).sum() \n",
    "yearly_crashes_count = df.groupby(df['CRASH DATETIME'].map(lambda x: x.year)).count()\n",
    "yearly_stats[\"TOTAL CRASHES\"] = yearly_crashes_count['CRASH DATETIME']\n",
    "\n",
    "#adding Injury Rate and Fatality Rate columns\n",
    "yearly_stats[\"INJURY RATE\"] = (yearly_stats[\"NUMBER OF PERSONS INJURED\"]/yearly_stats[\"TOTAL CRASHES\"])* 100\n",
    "yearly_stats[\"FATALITY RATE\"] = (yearly_stats[\"NUMBER OF PERSONS KILLED\"]/yearly_stats[\"TOTAL CRASHES\"])* 100\n",
    "\n",
    "#moving Total Crases column to first\n",
    "yearly_stats = yearly_stats[ ['TOTAL CRASHES'] + [ col for col in yearly_stats.columns if col != 'TOTAL CRASHES' ] ]\n",
    "\n",
    "yearly_stats"
   ]
  },
  {
   "cell_type": "markdown",
   "metadata": {},
   "source": [
    "We can see that in 2018 and 2018, around 26-28% of crashes resulted in an injury, and around 0.1% of crashes resulted in a death.\n",
    "\n",
    "This trend seems to have increased in 2020. There are lesser crashes, but they seem to be deadlier, looking at the higher injury and fatality rates.\n",
    "\n",
    "There are a few important factors to consider in 2020:\n",
    "    - The data is only available upto November 17, 2020\n",
    "    - Due to the COVID-19 pandemic, there were periods of lockdown with less drivers and people on the road\n",
    "    - Hospital services might have been underperforming due to COVID-19\n",
    "    - Due to larger sample size, the data in 2018 and 2019 includes more accidents with no injuries and fatalities which skews the data\n",
    "\n",
    "Considering November 17 is almost the end of the year, we can approximate 2020 as a full year.\n",
    "\n",
    "Let's plot that."
   ]
  },
  {
   "cell_type": "code",
   "execution_count": 16,
   "metadata": {},
   "outputs": [
    {
     "data": {
      "text/plain": [
       "<matplotlib.axes._subplots.AxesSubplot at 0x7f3d35d4d880>"
      ]
     },
     "execution_count": 16,
     "metadata": {},
     "output_type": "execute_result"
    },
    {
     "data": {
      "image/png": "[encoded data removed]",
      "text/plain": [
       "<Figure size 432x288 with 1 Axes>"
      ]
     },
     "metadata": {
      "needs_background": "light"
     },
     "output_type": "display_data"
    },
    {
     "data": {
      "image/png": "[encoded data removed]",
      "text/plain": [
       "<Figure size 432x288 with 1 Axes>"
      ]
     },
     "metadata": {
      "needs_background": "light"
     },
     "output_type": "display_data"
    },
    {
     "data": {
      "image/png": "[encoded data removed]",
      "text/plain": [
       "<Figure size 432x288 with 1 Axes>"
      ]
     },
     "metadata": {
      "needs_background": "light"
     },
     "output_type": "display_data"
    }
   ],
   "source": [
    "#plotting with pandas plot function\n",
    "yearly_stats.plot(y = [\"TOTAL CRASHES\"], kind = \"bar\", title = \"NYC Car Crash Count by Year\")\n",
    "yearly_stats.plot(y = [\"INJURY RATE\"], kind = \"bar\", title = \"NYC Car Crash Injury Rate by Year\")\n",
    "yearly_stats.plot(y = [\"FATALITY RATE\"], kind = \"bar\", title = \"NYC Car Crash Fatality Rate by Year\")"
   ]
  },
  {
   "cell_type": "markdown",
   "metadata": {},
   "source": [
    "### Number of Crashes by Month\n",
    "\n",
    "We want to analyze whether there is a correlation between accidents on the road and the months. Possible impacts may be seasons, holidays, school/university breaks, and so on.\n",
    "\n",
    "Let's generate the data filtered for each year - 2018, 2019 and 2020. We'll add an empty row at the end of 2020 as no December 2020 data is available as of now.\n",
    "\n",
    "#### <center>2018</center>"
   ]
  },
  {
   "cell_type": "code",
   "execution_count": 17,
   "metadata": {},
   "outputs": [
    {
     "data": {
      "text/html": [
       "<div>\n",
       "<style scoped>\n",
       "    .dataframe tbody tr th:only-of-type {\n",
       "        vertical-align: middle;\n",
       "    }\n",
       "\n",
       "    .dataframe tbody tr th {\n",
       "        vertical-align: top;\n",
       "    }\n",
       "\n",
       "    .dataframe thead th {\n",
       "        text-align: right;\n",
       "    }\n",
       "</style>\n",
       "<table border=\"1\" class=\"dataframe\">\n",
       "  <thead>\n",
       "    <tr style=\"text-align: right;\">\n",
       "      <th></th>\n",
       "      <th>TOTAL CRASHES</th>\n",
       "      <th>NUMBER OF PERSONS INJURED</th>\n",
       "      <th>NUMBER OF PERSONS KILLED</th>\n",
       "      <th>INJURY RATE</th>\n",
       "      <th>FATALITY RATE</th>\n",
       "    </tr>\n",
       "    <tr>\n",
       "      <th>CRASH DATETIME</th>\n",
       "      <th></th>\n",
       "      <th></th>\n",
       "      <th></th>\n",
       "      <th></th>\n",
       "      <th></th>\n",
       "    </tr>\n",
       "  </thead>\n",
       "  <tbody>\n",
       "    <tr>\n",
       "      <th>1</th>\n",
       "      <td>17112</td>\n",
       "      <td>4246</td>\n",
       "      <td>12</td>\n",
       "      <td>24.812997</td>\n",
       "      <td>0.070126</td>\n",
       "    </tr>\n",
       "    <tr>\n",
       "      <th>2</th>\n",
       "      <td>15041</td>\n",
       "      <td>3798</td>\n",
       "      <td>15</td>\n",
       "      <td>25.250981</td>\n",
       "      <td>0.099727</td>\n",
       "    </tr>\n",
       "    <tr>\n",
       "      <th>3</th>\n",
       "      <td>18149</td>\n",
       "      <td>4493</td>\n",
       "      <td>18</td>\n",
       "      <td>24.756185</td>\n",
       "      <td>0.099179</td>\n",
       "    </tr>\n",
       "    <tr>\n",
       "      <th>4</th>\n",
       "      <td>17116</td>\n",
       "      <td>4432</td>\n",
       "      <td>15</td>\n",
       "      <td>25.893900</td>\n",
       "      <td>0.087637</td>\n",
       "    </tr>\n",
       "    <tr>\n",
       "      <th>5</th>\n",
       "      <td>19565</td>\n",
       "      <td>5375</td>\n",
       "      <td>14</td>\n",
       "      <td>27.472527</td>\n",
       "      <td>0.071556</td>\n",
       "    </tr>\n",
       "    <tr>\n",
       "      <th>6</th>\n",
       "      <td>19589</td>\n",
       "      <td>5333</td>\n",
       "      <td>20</td>\n",
       "      <td>27.224463</td>\n",
       "      <td>0.102098</td>\n",
       "    </tr>\n",
       "    <tr>\n",
       "      <th>7</th>\n",
       "      <td>18551</td>\n",
       "      <td>5222</td>\n",
       "      <td>17</td>\n",
       "      <td>28.149426</td>\n",
       "      <td>0.091639</td>\n",
       "    </tr>\n",
       "    <tr>\n",
       "      <th>8</th>\n",
       "      <td>18488</td>\n",
       "      <td>5266</td>\n",
       "      <td>17</td>\n",
       "      <td>28.483341</td>\n",
       "      <td>0.091952</td>\n",
       "    </tr>\n",
       "    <tr>\n",
       "      <th>9</th>\n",
       "      <td>17950</td>\n",
       "      <td>5175</td>\n",
       "      <td>29</td>\n",
       "      <td>28.830084</td>\n",
       "      <td>0.161560</td>\n",
       "    </tr>\n",
       "    <tr>\n",
       "      <th>10</th>\n",
       "      <td>19074</td>\n",
       "      <td>5147</td>\n",
       "      <td>18</td>\n",
       "      <td>26.984377</td>\n",
       "      <td>0.094369</td>\n",
       "    </tr>\n",
       "    <tr>\n",
       "      <th>11</th>\n",
       "      <td>17933</td>\n",
       "      <td>4601</td>\n",
       "      <td>21</td>\n",
       "      <td>25.656611</td>\n",
       "      <td>0.117103</td>\n",
       "    </tr>\n",
       "    <tr>\n",
       "      <th>12</th>\n",
       "      <td>17875</td>\n",
       "      <td>4928</td>\n",
       "      <td>21</td>\n",
       "      <td>27.569231</td>\n",
       "      <td>0.117483</td>\n",
       "    </tr>\n",
       "  </tbody>\n",
       "</table>\n",
       "</div>"
      ],
      "text/plain": [
       "                TOTAL CRASHES  NUMBER OF PERSONS INJURED  \\\n",
       "CRASH DATETIME                                             \n",
       "1                       17112                       4246   \n",
       "2                       15041                       3798   \n",
       "3                       18149                       4493   \n",
       "4                       17116                       4432   \n",
       "5                       19565                       5375   \n",
       "6                       19589                       5333   \n",
       "7                       18551                       5222   \n",
       "8                       18488                       5266   \n",
       "9                       17950                       5175   \n",
       "10                      19074                       5147   \n",
       "11                      17933                       4601   \n",
       "12                      17875                       4928   \n",
       "\n",
       "                NUMBER OF PERSONS KILLED  INJURY RATE  FATALITY RATE  \n",
       "CRASH DATETIME                                                        \n",
       "1                                     12    24.812997       0.070126  \n",
       "2                                     15    25.250981       0.099727  \n",
       "3                                     18    24.756185       0.099179  \n",
       "4                                     15    25.893900       0.087637  \n",
       "5                                     14    27.472527       0.071556  \n",
       "6                                     20    27.224463       0.102098  \n",
       "7                                     17    28.149426       0.091639  \n",
       "8                                     17    28.483341       0.091952  \n",
       "9                                     29    28.830084       0.161560  \n",
       "10                                    18    26.984377       0.094369  \n",
       "11                                    21    25.656611       0.117103  \n",
       "12                                    21    27.569231       0.117483  "
      ]
     },
     "execution_count": 17,
     "metadata": {},
     "output_type": "execute_result"
    }
   ],
   "source": [
    "#filtering for 2018 data and defining new monthly dataframe\n",
    "df_2018 = df[(df['CRASH DATETIME'] < '2019-01-01')]\n",
    "monthly_stats_2018 = df[[\"CRASH DATETIME\", \"NUMBER OF PERSONS INJURED\", \"NUMBER OF PERSONS KILLED\"]]\n",
    "\n",
    "#grouping by year and getting total crashes per year\n",
    "monthly_stats_2018 = monthly_stats_2018[(monthly_stats_2018['CRASH DATETIME'] < '2019-01-01')]\n",
    "monthly_stats_2018 = monthly_stats_2018.groupby(monthly_stats_2018['CRASH DATETIME'].map(lambda x: x.month)).sum()\n",
    "monthly_crashes_count_2018 = df_2018.groupby(df_2018['CRASH DATETIME'].map(lambda x: x.month)).count()\n",
    "monthly_stats_2018[\"TOTAL CRASHES\"] = monthly_crashes_count_2018['CRASH DATETIME']\n",
    "\n",
    "#adding Injury Rate and Fatality Rate columns\n",
    "monthly_stats_2018[\"INJURY RATE\"] = (monthly_stats_2018[\"NUMBER OF PERSONS INJURED\"]/monthly_stats_2018[\"TOTAL CRASHES\"])* 100\n",
    "monthly_stats_2018[\"FATALITY RATE\"] = (monthly_stats_2018[\"NUMBER OF PERSONS KILLED\"]/monthly_stats_2018[\"TOTAL CRASHES\"])* 100\n",
    "\n",
    "#moving Total Crases column to first\n",
    "monthly_stats_2018 = monthly_stats_2018[ ['TOTAL CRASHES'] + [ col for col in monthly_stats_2018.columns if col != 'TOTAL CRASHES' ] ]\n",
    "\n",
    "monthly_stats_2018"
   ]
  },
  {
   "cell_type": "markdown",
   "metadata": {},
   "source": [
    "#### <center>2019</center>"
   ]
  },
  {
   "cell_type": "code",
   "execution_count": 18,
   "metadata": {},
   "outputs": [
    {
     "data": {
      "text/html": [
       "<div>\n",
       "<style scoped>\n",
       "    .dataframe tbody tr th:only-of-type {\n",
       "        vertical-align: middle;\n",
       "    }\n",
       "\n",
       "    .dataframe tbody tr th {\n",
       "        vertical-align: top;\n",
       "    }\n",
       "\n",
       "    .dataframe thead th {\n",
       "        text-align: right;\n",
       "    }\n",
       "</style>\n",
       "<table border=\"1\" class=\"dataframe\">\n",
       "  <thead>\n",
       "    <tr style=\"text-align: right;\">\n",
       "      <th></th>\n",
       "      <th>TOTAL CRASHES</th>\n",
       "      <th>NUMBER OF PERSONS INJURED</th>\n",
       "      <th>NUMBER OF PERSONS KILLED</th>\n",
       "      <th>INJURY RATE</th>\n",
       "      <th>FATALITY RATE</th>\n",
       "    </tr>\n",
       "    <tr>\n",
       "      <th>CRASH DATETIME</th>\n",
       "      <th></th>\n",
       "      <th></th>\n",
       "      <th></th>\n",
       "      <th></th>\n",
       "      <th></th>\n",
       "    </tr>\n",
       "  </thead>\n",
       "  <tbody>\n",
       "    <tr>\n",
       "      <th>1</th>\n",
       "      <td>15633</td>\n",
       "      <td>4081</td>\n",
       "      <td>19</td>\n",
       "      <td>26.105034</td>\n",
       "      <td>0.121538</td>\n",
       "    </tr>\n",
       "    <tr>\n",
       "      <th>2</th>\n",
       "      <td>14764</td>\n",
       "      <td>3792</td>\n",
       "      <td>14</td>\n",
       "      <td>25.684096</td>\n",
       "      <td>0.094825</td>\n",
       "    </tr>\n",
       "    <tr>\n",
       "      <th>3</th>\n",
       "      <td>16328</td>\n",
       "      <td>4224</td>\n",
       "      <td>16</td>\n",
       "      <td>25.869672</td>\n",
       "      <td>0.097991</td>\n",
       "    </tr>\n",
       "    <tr>\n",
       "      <th>4</th>\n",
       "      <td>15430</td>\n",
       "      <td>4368</td>\n",
       "      <td>19</td>\n",
       "      <td>28.308490</td>\n",
       "      <td>0.123137</td>\n",
       "    </tr>\n",
       "    <tr>\n",
       "      <th>5</th>\n",
       "      <td>17976</td>\n",
       "      <td>5253</td>\n",
       "      <td>20</td>\n",
       "      <td>29.222296</td>\n",
       "      <td>0.111259</td>\n",
       "    </tr>\n",
       "    <tr>\n",
       "      <th>6</th>\n",
       "      <td>17844</td>\n",
       "      <td>5374</td>\n",
       "      <td>21</td>\n",
       "      <td>30.116566</td>\n",
       "      <td>0.117687</td>\n",
       "    </tr>\n",
       "    <tr>\n",
       "      <th>7</th>\n",
       "      <td>16944</td>\n",
       "      <td>5169</td>\n",
       "      <td>20</td>\n",
       "      <td>30.506374</td>\n",
       "      <td>0.118036</td>\n",
       "    </tr>\n",
       "    <tr>\n",
       "      <th>8</th>\n",
       "      <td>15802</td>\n",
       "      <td>4997</td>\n",
       "      <td>19</td>\n",
       "      <td>31.622579</td>\n",
       "      <td>0.120238</td>\n",
       "    </tr>\n",
       "    <tr>\n",
       "      <th>9</th>\n",
       "      <td>16157</td>\n",
       "      <td>4817</td>\n",
       "      <td>19</td>\n",
       "      <td>29.813703</td>\n",
       "      <td>0.117596</td>\n",
       "    </tr>\n",
       "    <tr>\n",
       "      <th>10</th>\n",
       "      <td>16030</td>\n",
       "      <td>4770</td>\n",
       "      <td>18</td>\n",
       "      <td>29.756706</td>\n",
       "      <td>0.112289</td>\n",
       "    </tr>\n",
       "    <tr>\n",
       "      <th>11</th>\n",
       "      <td>15558</td>\n",
       "      <td>4336</td>\n",
       "      <td>17</td>\n",
       "      <td>27.869906</td>\n",
       "      <td>0.109269</td>\n",
       "    </tr>\n",
       "    <tr>\n",
       "      <th>12</th>\n",
       "      <td>15645</td>\n",
       "      <td>4726</td>\n",
       "      <td>25</td>\n",
       "      <td>30.207734</td>\n",
       "      <td>0.159795</td>\n",
       "    </tr>\n",
       "  </tbody>\n",
       "</table>\n",
       "</div>"
      ],
      "text/plain": [
       "                TOTAL CRASHES  NUMBER OF PERSONS INJURED  \\\n",
       "CRASH DATETIME                                             \n",
       "1                       15633                       4081   \n",
       "2                       14764                       3792   \n",
       "3                       16328                       4224   \n",
       "4                       15430                       4368   \n",
       "5                       17976                       5253   \n",
       "6                       17844                       5374   \n",
       "7                       16944                       5169   \n",
       "8                       15802                       4997   \n",
       "9                       16157                       4817   \n",
       "10                      16030                       4770   \n",
       "11                      15558                       4336   \n",
       "12                      15645                       4726   \n",
       "\n",
       "                NUMBER OF PERSONS KILLED  INJURY RATE  FATALITY RATE  \n",
       "CRASH DATETIME                                                        \n",
       "1                                     19    26.105034       0.121538  \n",
       "2                                     14    25.684096       0.094825  \n",
       "3                                     16    25.869672       0.097991  \n",
       "4                                     19    28.308490       0.123137  \n",
       "5                                     20    29.222296       0.111259  \n",
       "6                                     21    30.116566       0.117687  \n",
       "7                                     20    30.506374       0.118036  \n",
       "8                                     19    31.622579       0.120238  \n",
       "9                                     19    29.813703       0.117596  \n",
       "10                                    18    29.756706       0.112289  \n",
       "11                                    17    27.869906       0.109269  \n",
       "12                                    25    30.207734       0.159795  "
      ]
     },
     "execution_count": 18,
     "metadata": {},
     "output_type": "execute_result"
    }
   ],
   "source": [
    "#filtering for 2019 data and defining new monthly dataframe\n",
    "df_2019 = df[(df['CRASH DATETIME'] < '2020-01-01') & ((df['CRASH DATETIME'] >= '2019-01-01'))]\n",
    "monthly_stats_2019 = df[[\"CRASH DATETIME\", \"NUMBER OF PERSONS INJURED\", \"NUMBER OF PERSONS KILLED\"]]\n",
    "\n",
    "#grouping by year and getting total crashes per year\n",
    "monthly_stats_2019 = monthly_stats_2019[(monthly_stats_2019['CRASH DATETIME'] < '2020-01-01') & (monthly_stats_2019['CRASH DATETIME'] >= '2019-01-01')]\n",
    "monthly_stats_2019 = monthly_stats_2019.groupby(monthly_stats_2019['CRASH DATETIME'].map(lambda x: x.month)).sum()\n",
    "monthly_crashes_count_2019 = df_2019.groupby(df_2019['CRASH DATETIME'].map(lambda x: x.month)).count()\n",
    "monthly_stats_2019[\"TOTAL CRASHES\"] = monthly_crashes_count_2019['CRASH DATETIME']\n",
    "\n",
    "#adding Injury Rate and Fatality Rate columns\n",
    "monthly_stats_2019[\"INJURY RATE\"] = (monthly_stats_2019[\"NUMBER OF PERSONS INJURED\"]/monthly_stats_2019[\"TOTAL CRASHES\"])* 100\n",
    "monthly_stats_2019[\"FATALITY RATE\"] = (monthly_stats_2019[\"NUMBER OF PERSONS KILLED\"]/monthly_stats_2019[\"TOTAL CRASHES\"])* 100\n",
    "\n",
    "#moving Total Crases column to first\n",
    "monthly_stats_2019 = monthly_stats_2019[ ['TOTAL CRASHES'] + [ col for col in monthly_stats_2019.columns if col != 'TOTAL CRASHES' ] ]\n",
    "\n",
    "monthly_stats_2019"
   ]
  },
  {
   "cell_type": "markdown",
   "metadata": {},
   "source": [
    "#### <center>2020</center>"
   ]
  },
  {
   "cell_type": "code",
   "execution_count": 19,
   "metadata": {},
   "outputs": [
    {
     "data": {
      "text/html": [
       "<div>\n",
       "<style scoped>\n",
       "    .dataframe tbody tr th:only-of-type {\n",
       "        vertical-align: middle;\n",
       "    }\n",
       "\n",
       "    .dataframe tbody tr th {\n",
       "        vertical-align: top;\n",
       "    }\n",
       "\n",
       "    .dataframe thead th {\n",
       "        text-align: right;\n",
       "    }\n",
       "</style>\n",
       "<table border=\"1\" class=\"dataframe\">\n",
       "  <thead>\n",
       "    <tr style=\"text-align: right;\">\n",
       "      <th></th>\n",
       "      <th>TOTAL CRASHES</th>\n",
       "      <th>NUMBER OF PERSONS INJURED</th>\n",
       "      <th>NUMBER OF PERSONS KILLED</th>\n",
       "      <th>INJURY RATE</th>\n",
       "      <th>FATALITY RATE</th>\n",
       "    </tr>\n",
       "    <tr>\n",
       "      <th>CRASH DATETIME</th>\n",
       "      <th></th>\n",
       "      <th></th>\n",
       "      <th></th>\n",
       "      <th></th>\n",
       "      <th></th>\n",
       "    </tr>\n",
       "  </thead>\n",
       "  <tbody>\n",
       "    <tr>\n",
       "      <th>1</th>\n",
       "      <td>13161</td>\n",
       "      <td>3872</td>\n",
       "      <td>17</td>\n",
       "      <td>29.420257</td>\n",
       "      <td>0.129170</td>\n",
       "    </tr>\n",
       "    <tr>\n",
       "      <th>2</th>\n",
       "      <td>12566</td>\n",
       "      <td>3666</td>\n",
       "      <td>18</td>\n",
       "      <td>29.173961</td>\n",
       "      <td>0.143244</td>\n",
       "    </tr>\n",
       "    <tr>\n",
       "      <th>3</th>\n",
       "      <td>10229</td>\n",
       "      <td>2879</td>\n",
       "      <td>7</td>\n",
       "      <td>28.145469</td>\n",
       "      <td>0.068433</td>\n",
       "    </tr>\n",
       "    <tr>\n",
       "      <th>4</th>\n",
       "      <td>3792</td>\n",
       "      <td>1186</td>\n",
       "      <td>13</td>\n",
       "      <td>31.276371</td>\n",
       "      <td>0.342827</td>\n",
       "    </tr>\n",
       "    <tr>\n",
       "      <th>5</th>\n",
       "      <td>5680</td>\n",
       "      <td>2311</td>\n",
       "      <td>11</td>\n",
       "      <td>40.686620</td>\n",
       "      <td>0.193662</td>\n",
       "    </tr>\n",
       "    <tr>\n",
       "      <th>6</th>\n",
       "      <td>7022</td>\n",
       "      <td>3302</td>\n",
       "      <td>24</td>\n",
       "      <td>47.023640</td>\n",
       "      <td>0.341783</td>\n",
       "    </tr>\n",
       "    <tr>\n",
       "      <th>7</th>\n",
       "      <td>8523</td>\n",
       "      <td>3955</td>\n",
       "      <td>23</td>\n",
       "      <td>46.403848</td>\n",
       "      <td>0.269858</td>\n",
       "    </tr>\n",
       "    <tr>\n",
       "      <th>8</th>\n",
       "      <td>9044</td>\n",
       "      <td>4316</td>\n",
       "      <td>21</td>\n",
       "      <td>47.722247</td>\n",
       "      <td>0.232198</td>\n",
       "    </tr>\n",
       "    <tr>\n",
       "      <th>9</th>\n",
       "      <td>8852</td>\n",
       "      <td>4290</td>\n",
       "      <td>33</td>\n",
       "      <td>48.463624</td>\n",
       "      <td>0.372797</td>\n",
       "    </tr>\n",
       "    <tr>\n",
       "      <th>10</th>\n",
       "      <td>8851</td>\n",
       "      <td>3931</td>\n",
       "      <td>23</td>\n",
       "      <td>44.413061</td>\n",
       "      <td>0.259858</td>\n",
       "    </tr>\n",
       "    <tr>\n",
       "      <th>11</th>\n",
       "      <td>4715</td>\n",
       "      <td>2111</td>\n",
       "      <td>12</td>\n",
       "      <td>44.772004</td>\n",
       "      <td>0.254507</td>\n",
       "    </tr>\n",
       "    <tr>\n",
       "      <th>12</th>\n",
       "      <td>0</td>\n",
       "      <td>0</td>\n",
       "      <td>0</td>\n",
       "      <td>0.000000</td>\n",
       "      <td>0.000000</td>\n",
       "    </tr>\n",
       "  </tbody>\n",
       "</table>\n",
       "</div>"
      ],
      "text/plain": [
       "                TOTAL CRASHES  NUMBER OF PERSONS INJURED  \\\n",
       "CRASH DATETIME                                             \n",
       "1                       13161                       3872   \n",
       "2                       12566                       3666   \n",
       "3                       10229                       2879   \n",
       "4                        3792                       1186   \n",
       "5                        5680                       2311   \n",
       "6                        7022                       3302   \n",
       "7                        8523                       3955   \n",
       "8                        9044                       4316   \n",
       "9                        8852                       4290   \n",
       "10                       8851                       3931   \n",
       "11                       4715                       2111   \n",
       "12                          0                          0   \n",
       "\n",
       "                NUMBER OF PERSONS KILLED  INJURY RATE  FATALITY RATE  \n",
       "CRASH DATETIME                                                        \n",
       "1                                     17    29.420257       0.129170  \n",
       "2                                     18    29.173961       0.143244  \n",
       "3                                      7    28.145469       0.068433  \n",
       "4                                     13    31.276371       0.342827  \n",
       "5                                     11    40.686620       0.193662  \n",
       "6                                     24    47.023640       0.341783  \n",
       "7                                     23    46.403848       0.269858  \n",
       "8                                     21    47.722247       0.232198  \n",
       "9                                     33    48.463624       0.372797  \n",
       "10                                    23    44.413061       0.259858  \n",
       "11                                    12    44.772004       0.254507  \n",
       "12                                     0     0.000000       0.000000  "
      ]
     },
     "execution_count": 19,
     "metadata": {},
     "output_type": "execute_result"
    }
   ],
   "source": [
    "#filtering for 2020 data and defining new monthly dataframe\n",
    "df_2020 = df[(df['CRASH DATETIME'] < '2021-01-01') & ((df['CRASH DATETIME'] >= '2020-01-01'))]\n",
    "monthly_stats_2020 = df[[\"CRASH DATETIME\", \"NUMBER OF PERSONS INJURED\", \"NUMBER OF PERSONS KILLED\"]]\n",
    "\n",
    "#grouping by year and getting total crashes per year\n",
    "monthly_stats_2020 = monthly_stats_2020[(monthly_stats_2020['CRASH DATETIME'] < '2021-01-01') & (monthly_stats_2020['CRASH DATETIME'] >= '2020-01-01')]\n",
    "monthly_stats_2020 = monthly_stats_2020.groupby(monthly_stats_2020['CRASH DATETIME'].map(lambda x: x.month)).sum()\n",
    "monthly_crashes_count_2020 = df_2020.groupby(df_2020['CRASH DATETIME'].map(lambda x: x.month)).count()\n",
    "monthly_stats_2020[\"TOTAL CRASHES\"] = monthly_crashes_count_2020['CRASH DATETIME']\n",
    "\n",
    "#adding Injury Rate and Fatality Rate columns\n",
    "monthly_stats_2020[\"INJURY RATE\"] = (monthly_stats_2020[\"NUMBER OF PERSONS INJURED\"]/monthly_stats_2020[\"TOTAL CRASHES\"])* 100\n",
    "monthly_stats_2020[\"FATALITY RATE\"] = (monthly_stats_2020[\"NUMBER OF PERSONS KILLED\"]/monthly_stats_2020[\"TOTAL CRASHES\"])* 100\n",
    "\n",
    "#moving Total Crases column to first\n",
    "monthly_stats_2020 = monthly_stats_2020[ ['TOTAL CRASHES'] + [ col for col in monthly_stats_2020.columns if col != 'TOTAL CRASHES' ] ]\n",
    "\n",
    "#adding an empty row for December 2020\n",
    "monthly_stats_2020 = monthly_stats_2020.append(pd.Series(name='12', dtype='int64'))\n",
    "monthly_stats_2020[\"TOTAL CRASHES\"][\"12\"] = 0\n",
    "monthly_stats_2020[\"NUMBER OF PERSONS INJURED\"][\"12\"] = 0\n",
    "monthly_stats_2020[\"NUMBER OF PERSONS KILLED\"][\"12\"] = 0\n",
    "monthly_stats_2020[\"INJURY RATE\"][\"12\"] = 0\n",
    "monthly_stats_2020[\"FATALITY RATE\"][\"12\"] = 0\n",
    "\n",
    "monthly_stats_2020[\"TOTAL CRASHES\"] = monthly_stats_2020[\"TOTAL CRASHES\"].astype(int)\n",
    "monthly_stats_2020[\"NUMBER OF PERSONS INJURED\"] = monthly_stats_2020[\"NUMBER OF PERSONS INJURED\"].astype(int)\n",
    "monthly_stats_2020[\"NUMBER OF PERSONS KILLED\"] = monthly_stats_2020[\"NUMBER OF PERSONS KILLED\"].astype(int)\n",
    "monthly_stats_2020"
   ]
  },
  {
   "cell_type": "markdown",
   "metadata": {},
   "source": [
    "### Plotting month-wise data of crashes, injuries and fatalities for each year\n",
    "\n",
    "Now that we have genereted the required data, we will go ahead and use matplotlib to generate side-by-side plots comparing the data."
   ]
  },
  {
   "cell_type": "markdown",
   "metadata": {},
   "source": [
    "#### <center>Total Crashes</center>"
   ]
  },
  {
   "cell_type": "code",
   "execution_count": 20,
   "metadata": {},
   "outputs": [
    {
     "data": {
      "image/png": "[encoded data removed]",
      "text/plain": [
       "<Figure size 1080x1080 with 1 Axes>"
      ]
     },
     "metadata": {
      "needs_background": "light"
     },
     "output_type": "display_data"
    }
   ],
   "source": [
    "labels = ['1','2','3','4','5','6','7','8','9','10','11','12']\n",
    "x = np.arange(len(labels))\n",
    "width = 0.25\n",
    "\n",
    "fig, ax = plt.subplots()\n",
    "\n",
    "rects1 = ax.bar(x - width, monthly_stats_2018[\"TOTAL CRASHES\"], width, label='2018')\n",
    "rects2 = ax.bar(x, monthly_stats_2019[\"TOTAL CRASHES\"], width, label='2019')\n",
    "rects3 = ax.bar(x + width, monthly_stats_2020[\"TOTAL CRASHES\"], width, label='2020')\n",
    "\n",
    "ax.set_ylabel('CRASHES')\n",
    "ax.set_title('MONTHLY TOTAL CRASHES PER YEAR')\n",
    "ax.set_xticks(x)\n",
    "ax.set_xticklabels(labels)\n",
    "ax.legend()\n",
    "\n",
    "def autolabel(rects):\n",
    "    \"\"\"Attach a text label above each bar in *rects*, displaying its height.\"\"\"\n",
    "    for rect in rects:\n",
    "        height = rect.get_height()\n",
    "        ax.annotate('{}'.format(height),\n",
    "                    xy=(rect.get_x() + rect.get_width() / 2, height),\n",
    "                    xytext=(0, 3),  # 3 points vertical offset\n",
    "                    textcoords=\"offset points\",\n",
    "                    ha='center', va='bottom')\n",
    "\n",
    "\n",
    "autolabel(rects1)\n",
    "autolabel(rects2)\n",
    "autolabel(rects3)\n",
    "\n",
    "fig.tight_layout()\n",
    "fig.set_figwidth(15)\n",
    "fig.set_figheight(15)\n",
    "\n",
    "plt.show()"
   ]
  },
  {
   "cell_type": "markdown",
   "metadata": {},
   "source": [
    "Looking over the total number of crashes, 2018 and 2019 seem to follow a general trend of having higher values during the summer months, especially May, June and July.\n",
    "\n",
    "For 2020, we can see a sharp decline around April 2020, which coincides with the beginning of the lockdown period."
   ]
  },
  {
   "cell_type": "markdown",
   "metadata": {},
   "source": [
    "#### <center>Injury Rates</center>"
   ]
  },
  {
   "cell_type": "code",
   "execution_count": 21,
   "metadata": {},
   "outputs": [
    {
     "data": {
      "image/png": "[encoded data removed]",
      "text/plain": [
       "<Figure size 1080x1080 with 1 Axes>"
      ]
     },
     "metadata": {
      "needs_background": "light"
     },
     "output_type": "display_data"
    }
   ],
   "source": [
    "labels = ['1','2','3','4','5','6','7','8','9','10','11','12']\n",
    "x = np.arange(len(labels))\n",
    "width = 0.25\n",
    "\n",
    "fig, ax = plt.subplots()\n",
    "\n",
    "rects1 = ax.bar(x - width, monthly_stats_2018[\"INJURY RATE\"], width, label='2018')\n",
    "rects2 = ax.bar(x, monthly_stats_2019[\"INJURY RATE\"], width, label='2019')\n",
    "rects3 = ax.bar(x + width, monthly_stats_2020[\"INJURY RATE\"], width, label='2020')\n",
    "\n",
    "ax.set_ylabel('CRASHES')\n",
    "ax.set_title('MONTHLY INJURY RATE PER YEAR')\n",
    "ax.set_xticks(x)\n",
    "ax.set_xticklabels(labels)\n",
    "ax.legend()\n",
    "\n",
    "def autolabel(rects):\n",
    "    \"\"\"Attach a text label above each bar in *rects*, displaying its height.\"\"\"\n",
    "    for rect in rects:\n",
    "        height = rect.get_height()\n",
    "        ax.annotate('{:.2f}'.format(height),\n",
    "                    xy=(rect.get_x() + rect.get_width() / 2, height),\n",
    "                    xytext=(0, 3),  # 3 points vertical offset\n",
    "                    textcoords=\"offset points\",\n",
    "                    ha='center', va='bottom')\n",
    "\n",
    "\n",
    "autolabel(rects1)\n",
    "autolabel(rects2)\n",
    "autolabel(rects3)\n",
    "\n",
    "fig.tight_layout()\n",
    "fig.set_figwidth(15)\n",
    "fig.set_figheight(15)\n",
    "\n",
    "plt.show()"
   ]
  },
  {
   "cell_type": "markdown",
   "metadata": {},
   "source": [
    "We can see a fairly even distribution of injuries throughout 2018 and 2019, however there seem to be more injuries in the summer months, and December. Interesting.\n",
    "\n",
    "2020 is a wild ride where, until April, the values remain close to (but still higher - more injuries as years go by?) their 2018 and 2019 counterparts. However, we see a sharp increase in injuries post April 2020, which can point to multiple factors. COVID-19, stress on the medical infrastructure.\n",
    "\n",
    "I assume the biggest factor for this skew might be the lessed number of collisions recorded during that timeframe. Which would decrease the ratio of the most common collision, one without any injury or death."
   ]
  },
  {
   "cell_type": "markdown",
   "metadata": {},
   "source": [
    "#### <center>Fatality Rates</center>"
   ]
  },
  {
   "cell_type": "code",
   "execution_count": 22,
   "metadata": {},
   "outputs": [
    {
     "data": {
      "image/png": "[encoded data removed]",
      "text/plain": [
       "<Figure size 1080x1080 with 1 Axes>"
      ]
     },
     "metadata": {
      "needs_background": "light"
     },
     "output_type": "display_data"
    }
   ],
   "source": [
    "labels = ['1','2','3','4','5','6','7','8','9','10','11','12']\n",
    "x = np.arange(len(labels))\n",
    "width = 0.25\n",
    "\n",
    "fig, ax = plt.subplots()\n",
    "\n",
    "rects1 = ax.bar(x - width, monthly_stats_2018[\"FATALITY RATE\"], width, label='2018')\n",
    "rects2 = ax.bar(x, monthly_stats_2019[\"FATALITY RATE\"], width, label='2019')\n",
    "rects3 = ax.bar(x + width, monthly_stats_2020[\"FATALITY RATE\"], width, label='2020')\n",
    "\n",
    "ax.set_ylabel('CRASHES')\n",
    "ax.set_title('MONTHLY FATALITY RATE PER YEAR')\n",
    "ax.set_xticks(x)\n",
    "ax.set_xticklabels(labels)\n",
    "ax.legend()\n",
    "\n",
    "def autolabel(rects):\n",
    "    \"\"\"Attach a text label above each bar in *rects*, displaying its height.\"\"\"\n",
    "    for rect in rects:\n",
    "        height = rect.get_height()\n",
    "        ax.annotate('{:.2f}'.format(height),\n",
    "                    xy=(rect.get_x() + rect.get_width() / 2, height),\n",
    "                    xytext=(0, 3),  # 3 points vertical offset\n",
    "                    textcoords=\"offset points\",\n",
    "                    ha='center', va='bottom')\n",
    "\n",
    "\n",
    "autolabel(rects1)\n",
    "autolabel(rects2)\n",
    "autolabel(rects3)\n",
    "\n",
    "fig.tight_layout()\n",
    "fig.set_figwidth(15)\n",
    "fig.set_figheight(15)\n",
    "\n",
    "plt.show()"
   ]
  },
  {
   "cell_type": "markdown",
   "metadata": {},
   "source": [
    "Fatalities are also quite different post COVID-19, and the same reasoning of skew caused by a smaller sample size likely holds.\n",
    "\n",
    "Stress on medical infrastructure could also point to higher fatality rates.\n",
    "\n",
    "It is interesting to note that September and December hold the maxima points for 2018 and 2019 respectively, which might correlate to end of summer break and holiday seasons, respectively."
   ]
  },
  {
   "cell_type": "markdown",
   "metadata": {},
   "source": [
    "### Dates and Car Crashes\n",
    "\n",
    "Let us plot the frequency of crashes during dates of the calendar, as well as the related injury and fatality rates."
   ]
  },
  {
   "cell_type": "code",
   "execution_count": 23,
   "metadata": {},
   "outputs": [
    {
     "data": {
      "text/html": [
       "<div>\n",
       "<style scoped>\n",
       "    .dataframe tbody tr th:only-of-type {\n",
       "        vertical-align: middle;\n",
       "    }\n",
       "\n",
       "    .dataframe tbody tr th {\n",
       "        vertical-align: top;\n",
       "    }\n",
       "\n",
       "    .dataframe thead th {\n",
       "        text-align: right;\n",
       "    }\n",
       "</style>\n",
       "<table border=\"1\" class=\"dataframe\">\n",
       "  <thead>\n",
       "    <tr style=\"text-align: right;\">\n",
       "      <th></th>\n",
       "      <th>TOTAL CRASHES</th>\n",
       "      <th>NUMBER OF PERSONS INJURED</th>\n",
       "      <th>NUMBER OF PERSONS KILLED</th>\n",
       "      <th>INJURY RATE</th>\n",
       "      <th>FATALITY RATE</th>\n",
       "    </tr>\n",
       "    <tr>\n",
       "      <th>CRASH DATETIME</th>\n",
       "      <th></th>\n",
       "      <th></th>\n",
       "      <th></th>\n",
       "      <th></th>\n",
       "      <th></th>\n",
       "    </tr>\n",
       "  </thead>\n",
       "  <tbody>\n",
       "    <tr>\n",
       "      <th>2018-01-01</th>\n",
       "      <td>436</td>\n",
       "      <td>122</td>\n",
       "      <td>0</td>\n",
       "      <td>27.981651</td>\n",
       "      <td>0.000000</td>\n",
       "    </tr>\n",
       "    <tr>\n",
       "      <th>2018-01-02</th>\n",
       "      <td>610</td>\n",
       "      <td>154</td>\n",
       "      <td>0</td>\n",
       "      <td>25.245902</td>\n",
       "      <td>0.000000</td>\n",
       "    </tr>\n",
       "    <tr>\n",
       "      <th>2018-01-03</th>\n",
       "      <td>619</td>\n",
       "      <td>148</td>\n",
       "      <td>0</td>\n",
       "      <td>23.909532</td>\n",
       "      <td>0.000000</td>\n",
       "    </tr>\n",
       "    <tr>\n",
       "      <th>2018-01-04</th>\n",
       "      <td>440</td>\n",
       "      <td>57</td>\n",
       "      <td>0</td>\n",
       "      <td>12.954545</td>\n",
       "      <td>0.000000</td>\n",
       "    </tr>\n",
       "    <tr>\n",
       "      <th>2018-01-05</th>\n",
       "      <td>676</td>\n",
       "      <td>106</td>\n",
       "      <td>1</td>\n",
       "      <td>15.680473</td>\n",
       "      <td>0.147929</td>\n",
       "    </tr>\n",
       "    <tr>\n",
       "      <th>...</th>\n",
       "      <td>...</td>\n",
       "      <td>...</td>\n",
       "      <td>...</td>\n",
       "      <td>...</td>\n",
       "      <td>...</td>\n",
       "    </tr>\n",
       "    <tr>\n",
       "      <th>2020-11-13</th>\n",
       "      <td>322</td>\n",
       "      <td>125</td>\n",
       "      <td>2</td>\n",
       "      <td>38.819876</td>\n",
       "      <td>0.621118</td>\n",
       "    </tr>\n",
       "    <tr>\n",
       "      <th>2020-11-14</th>\n",
       "      <td>244</td>\n",
       "      <td>105</td>\n",
       "      <td>1</td>\n",
       "      <td>43.032787</td>\n",
       "      <td>0.409836</td>\n",
       "    </tr>\n",
       "    <tr>\n",
       "      <th>2020-11-15</th>\n",
       "      <td>209</td>\n",
       "      <td>79</td>\n",
       "      <td>0</td>\n",
       "      <td>37.799043</td>\n",
       "      <td>0.000000</td>\n",
       "    </tr>\n",
       "    <tr>\n",
       "      <th>2020-11-16</th>\n",
       "      <td>241</td>\n",
       "      <td>98</td>\n",
       "      <td>1</td>\n",
       "      <td>40.663900</td>\n",
       "      <td>0.414938</td>\n",
       "    </tr>\n",
       "    <tr>\n",
       "      <th>2020-11-17</th>\n",
       "      <td>190</td>\n",
       "      <td>79</td>\n",
       "      <td>0</td>\n",
       "      <td>41.578947</td>\n",
       "      <td>0.000000</td>\n",
       "    </tr>\n",
       "  </tbody>\n",
       "</table>\n",
       "<p>1052 rows × 5 columns</p>\n",
       "</div>"
      ],
      "text/plain": [
       "                TOTAL CRASHES  NUMBER OF PERSONS INJURED  \\\n",
       "CRASH DATETIME                                             \n",
       "2018-01-01                436                        122   \n",
       "2018-01-02                610                        154   \n",
       "2018-01-03                619                        148   \n",
       "2018-01-04                440                         57   \n",
       "2018-01-05                676                        106   \n",
       "...                       ...                        ...   \n",
       "2020-11-13                322                        125   \n",
       "2020-11-14                244                        105   \n",
       "2020-11-15                209                         79   \n",
       "2020-11-16                241                         98   \n",
       "2020-11-17                190                         79   \n",
       "\n",
       "                NUMBER OF PERSONS KILLED  INJURY RATE  FATALITY RATE  \n",
       "CRASH DATETIME                                                        \n",
       "2018-01-01                             0    27.981651       0.000000  \n",
       "2018-01-02                             0    25.245902       0.000000  \n",
       "2018-01-03                             0    23.909532       0.000000  \n",
       "2018-01-04                             0    12.954545       0.000000  \n",
       "2018-01-05                             1    15.680473       0.147929  \n",
       "...                                  ...          ...            ...  \n",
       "2020-11-13                             2    38.819876       0.621118  \n",
       "2020-11-14                             1    43.032787       0.409836  \n",
       "2020-11-15                             0    37.799043       0.000000  \n",
       "2020-11-16                             1    40.663900       0.414938  \n",
       "2020-11-17                             0    41.578947       0.000000  \n",
       "\n",
       "[1052 rows x 5 columns]"
      ]
     },
     "execution_count": 23,
     "metadata": {},
     "output_type": "execute_result"
    }
   ],
   "source": [
    "#filtering for 2020 data and defining new daily dataframe\n",
    "daily_stats = df[[\"CRASH DATETIME\", \"NUMBER OF PERSONS INJURED\", \"NUMBER OF PERSONS KILLED\"]]\n",
    "daily_stats = daily_stats.set_index('CRASH DATETIME').groupby(pd.Grouper(freq='D')).sum()\n",
    "date_data = df.set_index('CRASH DATETIME').groupby(pd.Grouper(freq='D')).count()\n",
    "daily_stats[\"TOTAL CRASHES\"] = date_data[\"COLLISION_ID\"]\n",
    "\n",
    "#adding Injury Rate and Fatality Rate columns\n",
    "daily_stats[\"INJURY RATE\"] = (daily_stats[\"NUMBER OF PERSONS INJURED\"]/daily_stats[\"TOTAL CRASHES\"])* 100\n",
    "daily_stats[\"FATALITY RATE\"] = (daily_stats[\"NUMBER OF PERSONS KILLED\"]/daily_stats[\"TOTAL CRASHES\"])* 100\n",
    "\n",
    "#moving Total Crases column to first\n",
    "daily_stats = daily_stats[ ['TOTAL CRASHES'] + [ col for col in daily_stats.columns if col != 'TOTAL CRASHES' ] ]\n",
    "\n",
    "daily_stats[\"TOTAL CRASHES\"] = daily_stats[\"TOTAL CRASHES\"].astype(int)\n",
    "daily_stats[\"NUMBER OF PERSONS INJURED\"] = daily_stats[\"NUMBER OF PERSONS INJURED\"].astype(int)\n",
    "daily_stats[\"NUMBER OF PERSONS KILLED\"] = daily_stats[\"NUMBER OF PERSONS KILLED\"].astype(int)\n",
    "\n",
    "daily_stats"
   ]
  },
  {
   "cell_type": "markdown",
   "metadata": {},
   "source": [
    "Let's plot the daily trends.\n",
    "\n",
    "#### <center>Daily Total Crashes By Year<center>"
   ]
  },
  {
   "cell_type": "code",
   "execution_count": 24,
   "metadata": {},
   "outputs": [
    {
     "name": "stderr",
     "output_type": "stream",
     "text": [
      "findfont: Font family ['Arial'] not found. Falling back to DejaVu Sans.\n"
     ]
    },
    {
     "data": {
      "text/plain": [
       "(<Figure size 1080x1080 with 3 Axes>,\n",
       " array([<matplotlib.axes._subplots.AxesSubplot object at 0x7f3d31a50640>,\n",
       "        <matplotlib.axes._subplots.AxesSubplot object at 0x7f3d330cda00>,\n",
       "        <matplotlib.axes._subplots.AxesSubplot object at 0x7f3d330f7e20>],\n",
       "       dtype=object))"
      ]
     },
     "execution_count": 24,
     "metadata": {},
     "output_type": "execute_result"
    },
    {
     "data": {
      "image/png": "[encoded data removed]",
      "text/plain": [
       "<Figure size 1080x1080 with 3 Axes>"
      ]
     },
     "metadata": {
      "needs_background": "light"
     },
     "output_type": "display_data"
    }
   ],
   "source": [
    "events = daily_stats[\"TOTAL CRASHES\"]\n",
    "\n",
    "calmap.calendarplot(events, monthticks=1, daylabels='MTWTFSS',\n",
    "                    dayticks=[0, 1, 2, 3, 4, 5, 6], cmap='YlGn',\n",
    "                    fillcolor='grey', linewidth=0,\n",
    "                    fig_kws=dict(figsize=(15, 15)))"
   ]
  },
  {
   "cell_type": "markdown",
   "metadata": {},
   "source": [
    "Daily Total Crashes don't seem to have any particularly outstanding features. They seem to be evenly spread, which is surprising considering one would expect more crashes during weekends, but the data actually seems to show more accidents during the middle of the week. \n",
    "\n",
    "Furthermore, the start of the lockdown period is quite clearly visible in 2020."
   ]
  },
  {
   "cell_type": "markdown",
   "metadata": {},
   "source": [
    "#### <center>Daily Injury Rate By Year<center>"
   ]
  },
  {
   "cell_type": "code",
   "execution_count": 25,
   "metadata": {},
   "outputs": [
    {
     "data": {
      "text/plain": [
       "(<Figure size 1080x1080 with 3 Axes>,\n",
       " array([<matplotlib.axes._subplots.AxesSubplot object at 0x7f3d32fc7400>,\n",
       "        <matplotlib.axes._subplots.AxesSubplot object at 0x7f3d32fec550>,\n",
       "        <matplotlib.axes._subplots.AxesSubplot object at 0x7f3d32f98970>],\n",
       "       dtype=object))"
      ]
     },
     "execution_count": 25,
     "metadata": {},
     "output_type": "execute_result"
    },
    {
     "data": {
      "image/png": "[encoded data removed]",
      "text/plain": [
       "<Figure size 1080x1080 with 3 Axes>"
      ]
     },
     "metadata": {
      "needs_background": "light"
     },
     "output_type": "display_data"
    }
   ],
   "source": [
    "events = daily_stats[\"INJURY RATE\"]\n",
    "\n",
    "calmap.calendarplot(events, monthticks=1, daylabels='MTWTFSS',\n",
    "                    dayticks=[0, 1, 2, 3, 4, 5, 6], cmap='YlGn',\n",
    "                    fillcolor='grey', linewidth=0,\n",
    "                    fig_kws=dict(figsize=(15, 15)))"
   ]
  },
  {
   "cell_type": "markdown",
   "metadata": {},
   "source": [
    "Injury rates also don't seem to vary much, but there is a slight increase in injury rates during the weekends. Does this mean there are less accidents over the weekend, but they're more dangerous? \n",
    "\n",
    "Maybe party-goers and drivers under influence are represented by these darker shades.\n",
    "\n",
    "Finally, as noted earlier, injury rates seem to be higher during 2020, but again, the sample size is way smaller so caution is advised before any implications are made."
   ]
  },
  {
   "cell_type": "markdown",
   "metadata": {},
   "source": [
    "#### <center>Daily Fatality Rate By Year<center>"
   ]
  },
  {
   "cell_type": "code",
   "execution_count": 26,
   "metadata": {},
   "outputs": [
    {
     "data": {
      "text/plain": [
       "(<Figure size 1080x1080 with 3 Axes>,\n",
       " array([<matplotlib.axes._subplots.AxesSubplot object at 0x7f3d32fb9370>,\n",
       "        <matplotlib.axes._subplots.AxesSubplot object at 0x7f3d38b2b100>,\n",
       "        <matplotlib.axes._subplots.AxesSubplot object at 0x7f3d38ad3f40>],\n",
       "       dtype=object))"
      ]
     },
     "execution_count": 26,
     "metadata": {},
     "output_type": "execute_result"
    },
    {
     "data": {
      "image/png": "[encoded data removed]",
      "text/plain": [
       "<Figure size 1080x1080 with 3 Axes>"
      ]
     },
     "metadata": {
      "needs_background": "light"
     },
     "output_type": "display_data"
    }
   ],
   "source": [
    "events = daily_stats[\"FATALITY RATE\"]\n",
    "\n",
    "calmap.calendarplot(events, monthticks=1, daylabels='MTWTFSS',\n",
    "                    dayticks=[0, 1, 2, 3, 4, 5, 6], cmap='YlGn',\n",
    "                    fillcolor='grey', linewidth=0,\n",
    "                    fig_kws=dict(figsize=(15, 15)))"
   ]
  },
  {
   "cell_type": "markdown",
   "metadata": {},
   "source": [
    "Fatality rates also seem to be higher over the weekend during 2018 and 2019. Not particularly surprising.\n",
    "\n",
    "Notably, there is quite the significant spike of fatalities during April 2020, which can possibly show the impact of COVID-19 on medical infrastructure."
   ]
  },
  {
   "cell_type": "markdown",
   "metadata": {},
   "source": [
    "### Car Crashes and Time of Day Analysis\n",
    "\n",
    "What about the significance of the time of day when it comes to car crashes? Let's find out."
   ]
  },
  {
   "cell_type": "code",
   "execution_count": 33,
   "metadata": {},
   "outputs": [
    {
     "data": {
      "text/html": [
       "<div>\n",
       "<style scoped>\n",
       "    .dataframe tbody tr th:only-of-type {\n",
       "        vertical-align: middle;\n",
       "    }\n",
       "\n",
       "    .dataframe tbody tr th {\n",
       "        vertical-align: top;\n",
       "    }\n",
       "\n",
       "    .dataframe thead th {\n",
       "        text-align: right;\n",
       "    }\n",
       "</style>\n",
       "<table border=\"1\" class=\"dataframe\">\n",
       "  <thead>\n",
       "    <tr style=\"text-align: right;\">\n",
       "      <th></th>\n",
       "      <th>TOTAL CRASHES</th>\n",
       "      <th>NUMBER OF PERSONS INJURED</th>\n",
       "      <th>NUMBER OF PERSONS KILLED</th>\n",
       "      <th>INJURY RATE</th>\n",
       "      <th>FATALITY RATE</th>\n",
       "    </tr>\n",
       "    <tr>\n",
       "      <th>CRASH HOUR</th>\n",
       "      <th></th>\n",
       "      <th></th>\n",
       "      <th></th>\n",
       "      <th></th>\n",
       "      <th></th>\n",
       "    </tr>\n",
       "  </thead>\n",
       "  <tbody>\n",
       "    <tr>\n",
       "      <th>0</th>\n",
       "      <td>18140</td>\n",
       "      <td>6227</td>\n",
       "      <td>35</td>\n",
       "      <td>34.327453</td>\n",
       "      <td>0.192944</td>\n",
       "    </tr>\n",
       "    <tr>\n",
       "      <th>1</th>\n",
       "      <td>8286</td>\n",
       "      <td>2936</td>\n",
       "      <td>23</td>\n",
       "      <td>35.433261</td>\n",
       "      <td>0.277577</td>\n",
       "    </tr>\n",
       "    <tr>\n",
       "      <th>2</th>\n",
       "      <td>6165</td>\n",
       "      <td>2306</td>\n",
       "      <td>17</td>\n",
       "      <td>37.404704</td>\n",
       "      <td>0.275750</td>\n",
       "    </tr>\n",
       "    <tr>\n",
       "      <th>3</th>\n",
       "      <td>5503</td>\n",
       "      <td>2133</td>\n",
       "      <td>30</td>\n",
       "      <td>38.760676</td>\n",
       "      <td>0.545157</td>\n",
       "    </tr>\n",
       "    <tr>\n",
       "      <th>4</th>\n",
       "      <td>6127</td>\n",
       "      <td>2308</td>\n",
       "      <td>34</td>\n",
       "      <td>37.669332</td>\n",
       "      <td>0.554921</td>\n",
       "    </tr>\n",
       "    <tr>\n",
       "      <th>5</th>\n",
       "      <td>6957</td>\n",
       "      <td>2334</td>\n",
       "      <td>27</td>\n",
       "      <td>33.548944</td>\n",
       "      <td>0.388098</td>\n",
       "    </tr>\n",
       "    <tr>\n",
       "      <th>6</th>\n",
       "      <td>11638</td>\n",
       "      <td>3489</td>\n",
       "      <td>20</td>\n",
       "      <td>29.979378</td>\n",
       "      <td>0.171851</td>\n",
       "    </tr>\n",
       "    <tr>\n",
       "      <th>7</th>\n",
       "      <td>16383</td>\n",
       "      <td>4644</td>\n",
       "      <td>24</td>\n",
       "      <td>28.346457</td>\n",
       "      <td>0.146493</td>\n",
       "    </tr>\n",
       "    <tr>\n",
       "      <th>8</th>\n",
       "      <td>27444</td>\n",
       "      <td>6922</td>\n",
       "      <td>21</td>\n",
       "      <td>25.222271</td>\n",
       "      <td>0.076519</td>\n",
       "    </tr>\n",
       "    <tr>\n",
       "      <th>9</th>\n",
       "      <td>26172</td>\n",
       "      <td>6004</td>\n",
       "      <td>20</td>\n",
       "      <td>22.940547</td>\n",
       "      <td>0.076418</td>\n",
       "    </tr>\n",
       "    <tr>\n",
       "      <th>10</th>\n",
       "      <td>24481</td>\n",
       "      <td>5458</td>\n",
       "      <td>22</td>\n",
       "      <td>22.294841</td>\n",
       "      <td>0.089866</td>\n",
       "    </tr>\n",
       "    <tr>\n",
       "      <th>11</th>\n",
       "      <td>26082</td>\n",
       "      <td>6107</td>\n",
       "      <td>18</td>\n",
       "      <td>23.414615</td>\n",
       "      <td>0.069013</td>\n",
       "    </tr>\n",
       "    <tr>\n",
       "      <th>12</th>\n",
       "      <td>27991</td>\n",
       "      <td>6951</td>\n",
       "      <td>18</td>\n",
       "      <td>24.832982</td>\n",
       "      <td>0.064306</td>\n",
       "    </tr>\n",
       "    <tr>\n",
       "      <th>13</th>\n",
       "      <td>29339</td>\n",
       "      <td>7503</td>\n",
       "      <td>28</td>\n",
       "      <td>25.573469</td>\n",
       "      <td>0.095436</td>\n",
       "    </tr>\n",
       "    <tr>\n",
       "      <th>14</th>\n",
       "      <td>34361</td>\n",
       "      <td>9296</td>\n",
       "      <td>22</td>\n",
       "      <td>27.053927</td>\n",
       "      <td>0.064026</td>\n",
       "    </tr>\n",
       "    <tr>\n",
       "      <th>15</th>\n",
       "      <td>32562</td>\n",
       "      <td>9895</td>\n",
       "      <td>26</td>\n",
       "      <td>30.388183</td>\n",
       "      <td>0.079848</td>\n",
       "    </tr>\n",
       "    <tr>\n",
       "      <th>16</th>\n",
       "      <td>36059</td>\n",
       "      <td>10159</td>\n",
       "      <td>36</td>\n",
       "      <td>28.173272</td>\n",
       "      <td>0.099836</td>\n",
       "    </tr>\n",
       "    <tr>\n",
       "      <th>17</th>\n",
       "      <td>35480</td>\n",
       "      <td>10568</td>\n",
       "      <td>30</td>\n",
       "      <td>29.785795</td>\n",
       "      <td>0.084555</td>\n",
       "    </tr>\n",
       "    <tr>\n",
       "      <th>18</th>\n",
       "      <td>30781</td>\n",
       "      <td>9770</td>\n",
       "      <td>39</td>\n",
       "      <td>31.740359</td>\n",
       "      <td>0.126702</td>\n",
       "    </tr>\n",
       "    <tr>\n",
       "      <th>19</th>\n",
       "      <td>25013</td>\n",
       "      <td>8523</td>\n",
       "      <td>23</td>\n",
       "      <td>34.074281</td>\n",
       "      <td>0.091952</td>\n",
       "    </tr>\n",
       "    <tr>\n",
       "      <th>20</th>\n",
       "      <td>20572</td>\n",
       "      <td>7558</td>\n",
       "      <td>31</td>\n",
       "      <td>36.739257</td>\n",
       "      <td>0.150690</td>\n",
       "    </tr>\n",
       "    <tr>\n",
       "      <th>21</th>\n",
       "      <td>17763</td>\n",
       "      <td>6976</td>\n",
       "      <td>36</td>\n",
       "      <td>39.272645</td>\n",
       "      <td>0.202668</td>\n",
       "    </tr>\n",
       "    <tr>\n",
       "      <th>22</th>\n",
       "      <td>16154</td>\n",
       "      <td>6250</td>\n",
       "      <td>25</td>\n",
       "      <td>38.690108</td>\n",
       "      <td>0.154760</td>\n",
       "    </tr>\n",
       "    <tr>\n",
       "      <th>23</th>\n",
       "      <td>13536</td>\n",
       "      <td>5425</td>\n",
       "      <td>41</td>\n",
       "      <td>40.078310</td>\n",
       "      <td>0.302896</td>\n",
       "    </tr>\n",
       "  </tbody>\n",
       "</table>\n",
       "</div>"
      ],
      "text/plain": [
       "            TOTAL CRASHES  NUMBER OF PERSONS INJURED  \\\n",
       "CRASH HOUR                                             \n",
       "0                   18140                       6227   \n",
       "1                    8286                       2936   \n",
       "2                    6165                       2306   \n",
       "3                    5503                       2133   \n",
       "4                    6127                       2308   \n",
       "5                    6957                       2334   \n",
       "6                   11638                       3489   \n",
       "7                   16383                       4644   \n",
       "8                   27444                       6922   \n",
       "9                   26172                       6004   \n",
       "10                  24481                       5458   \n",
       "11                  26082                       6107   \n",
       "12                  27991                       6951   \n",
       "13                  29339                       7503   \n",
       "14                  34361                       9296   \n",
       "15                  32562                       9895   \n",
       "16                  36059                      10159   \n",
       "17                  35480                      10568   \n",
       "18                  30781                       9770   \n",
       "19                  25013                       8523   \n",
       "20                  20572                       7558   \n",
       "21                  17763                       6976   \n",
       "22                  16154                       6250   \n",
       "23                  13536                       5425   \n",
       "\n",
       "            NUMBER OF PERSONS KILLED  INJURY RATE  FATALITY RATE  \n",
       "CRASH HOUR                                                        \n",
       "0                                 35    34.327453       0.192944  \n",
       "1                                 23    35.433261       0.277577  \n",
       "2                                 17    37.404704       0.275750  \n",
       "3                                 30    38.760676       0.545157  \n",
       "4                                 34    37.669332       0.554921  \n",
       "5                                 27    33.548944       0.388098  \n",
       "6                                 20    29.979378       0.171851  \n",
       "7                                 24    28.346457       0.146493  \n",
       "8                                 21    25.222271       0.076519  \n",
       "9                                 20    22.940547       0.076418  \n",
       "10                                22    22.294841       0.089866  \n",
       "11                                18    23.414615       0.069013  \n",
       "12                                18    24.832982       0.064306  \n",
       "13                                28    25.573469       0.095436  \n",
       "14                                22    27.053927       0.064026  \n",
       "15                                26    30.388183       0.079848  \n",
       "16                                36    28.173272       0.099836  \n",
       "17                                30    29.785795       0.084555  \n",
       "18                                39    31.740359       0.126702  \n",
       "19                                23    34.074281       0.091952  \n",
       "20                                31    36.739257       0.150690  \n",
       "21                                36    39.272645       0.202668  \n",
       "22                                25    38.690108       0.154760  \n",
       "23                                41    40.078310       0.302896  "
      ]
     },
     "execution_count": 33,
     "metadata": {},
     "output_type": "execute_result"
    }
   ],
   "source": [
    "#filtering for 2020 data and defining new daily dataframe\n",
    "hourly_stats = df[[\"CRASH DATETIME\", \"NUMBER OF PERSONS INJURED\", \"NUMBER OF PERSONS KILLED\"]]\n",
    "hourly_stats = hourly_stats.set_index('CRASH DATETIME').groupby(pd.Grouper(freq='H')).sum()\n",
    "hour_data = df.set_index('CRASH DATETIME').groupby(pd.Grouper(freq='H')).count()\n",
    "hourly_stats[\"TOTAL CRASHES\"] = hour_data[\"COLLISION_ID\"]\n",
    "\n",
    "#moving Total Crases column to first\n",
    "hourly_stats = hourly_stats[ ['TOTAL CRASHES'] + [ col for col in hourly_stats.columns if col != 'TOTAL CRASHES' ] ]\n",
    "\n",
    "hourly_stats[\"TOTAL CRASHES\"] = hourly_stats[\"TOTAL CRASHES\"].astype(int)\n",
    "hourly_stats[\"NUMBER OF PERSONS INJURED\"] = hourly_stats[\"NUMBER OF PERSONS INJURED\"].astype(int)\n",
    "hourly_stats[\"NUMBER OF PERSONS KILLED\"] = hourly_stats[\"NUMBER OF PERSONS KILLED\"].astype(int)\n",
    "\n",
    "hourly_stats[\"CRASH HOUR\"] = hourly_stats.index.hour\n",
    "hourly_stats = hourly_stats.set_index('CRASH HOUR')\n",
    "hourly_stats = hourly_stats.groupby('CRASH HOUR', as_index= True).sum()\n",
    "\n",
    "#adding Injury Rate and Fatality Rate columns\n",
    "hourly_stats[\"INJURY RATE\"] = (hourly_stats[\"NUMBER OF PERSONS INJURED\"]/hourly_stats[\"TOTAL CRASHES\"])* 100\n",
    "hourly_stats[\"FATALITY RATE\"] = (hourly_stats[\"NUMBER OF PERSONS KILLED\"]/hourly_stats[\"TOTAL CRASHES\"])* 100\n",
    "\n",
    "hourly_stats"
   ]
  },
  {
   "cell_type": "markdown",
   "metadata": {},
   "source": [
    "#### <center>Total Crashes by Hour</center>"
   ]
  },
  {
   "cell_type": "code",
   "execution_count": 28,
   "metadata": {},
   "outputs": [
    {
     "data": {
      "image/png": "[encoded data removed]",
      "text/plain": [
       "<Figure size 1080x576 with 2 Axes>"
      ]
     },
     "metadata": {
      "needs_background": "light"
     },
     "output_type": "display_data"
    }
   ],
   "source": [
    "heatmap_pt = pd.pivot_table(hourly_stats,values=[\"TOTAL CRASHES\"], index=[\"CRASH HOUR\"])\n",
    "\n",
    "fig, ax = plt.subplots(figsize=(15,8))\n",
    "\n",
    "sns.set()\n",
    "\n",
    "ax = sns.heatmap(heatmap_pt, cmap=\"YlGnBu\")\n",
    "\n",
    "plt.show()"
   ]
  },
  {
   "cell_type": "markdown",
   "metadata": {},
   "source": [
    "We see that there is a spike in the number of crashes around 4 to 5 p.m., which coincides with the time most people would get off of work."
   ]
  },
  {
   "cell_type": "markdown",
   "metadata": {},
   "source": [
    "#### <center>Injury Rate by Hour</center>"
   ]
  },
  {
   "cell_type": "code",
   "execution_count": 29,
   "metadata": {},
   "outputs": [
    {
     "data": {
      "image/png": "[encoded data removed]",
      "text/plain": [
       "<Figure size 1080x576 with 2 Axes>"
      ]
     },
     "metadata": {},
     "output_type": "display_data"
    }
   ],
   "source": [
    "heatmap_pt = pd.pivot_table(hourly_stats,values=[\"INJURY RATE\"], index=[\"CRASH HOUR\"])\n",
    "\n",
    "fig, ax = plt.subplots(figsize=(15,8))\n",
    "\n",
    "sns.set()\n",
    "\n",
    "ax = sns.heatmap(heatmap_pt, cmap=\"YlGnBu\")\n",
    "\n",
    "plt.show()"
   ]
  },
  {
   "cell_type": "markdown",
   "metadata": {},
   "source": [
    "We can see crashes that occur late at night are much more likely to injure. Especially at 11 p.m. and 3 a.m."
   ]
  },
  {
   "cell_type": "markdown",
   "metadata": {},
   "source": [
    "#### <center>Fatality Rate by Hour</center>"
   ]
  },
  {
   "cell_type": "code",
   "execution_count": 30,
   "metadata": {},
   "outputs": [
    {
     "data": {
      "image/png": "[encoded data removed]",
      "text/plain": [
       "<Figure size 1080x576 with 2 Axes>"
      ]
     },
     "metadata": {},
     "output_type": "display_data"
    }
   ],
   "source": [
    "heatmap_pt = pd.pivot_table(hourly_stats,values=[\"FATALITY RATE\"], index=[\"CRASH HOUR\"])\n",
    "\n",
    "fig, ax = plt.subplots(figsize=(15,8))\n",
    "\n",
    "sns.set()\n",
    "\n",
    "ax = sns.heatmap(heatmap_pt, cmap=\"YlGnBu\")\n",
    "\n",
    "plt.show()"
   ]
  },
  {
   "cell_type": "markdown",
   "metadata": {},
   "source": [
    "Similar to injuries, we can see late night hours resulting in deadlier crashes, especially around 3 a.m. This suggests high speed collisions on empty roads by sleepy late night drivers."
   ]
  },
  {
   "cell_type": "markdown",
   "metadata": {},
   "source": [
    "### Most Common Causes\n",
    "\n",
    "Let's explore the different causes of collisions mentioned in the dataset and their frequencies."
   ]
  },
  {
   "cell_type": "markdown",
   "metadata": {},
   "source": [
    "#### <center>Top 10 Causes of Crashes</center>"
   ]
  },
  {
   "cell_type": "code",
   "execution_count": 58,
   "metadata": {},
   "outputs": [
    {
     "data": {
      "text/html": [
       "<div>\n",
       "<style scoped>\n",
       "    .dataframe tbody tr th:only-of-type {\n",
       "        vertical-align: middle;\n",
       "    }\n",
       "\n",
       "    .dataframe tbody tr th {\n",
       "        vertical-align: top;\n",
       "    }\n",
       "\n",
       "    .dataframe thead th {\n",
       "        text-align: right;\n",
       "    }\n",
       "</style>\n",
       "<table border=\"1\" class=\"dataframe\">\n",
       "  <thead>\n",
       "    <tr style=\"text-align: right;\">\n",
       "      <th></th>\n",
       "      <th>NUMBER OF PERSONS INJURED</th>\n",
       "      <th>NUMBER OF PERSONS KILLED</th>\n",
       "      <th>TOTAL CRASHES</th>\n",
       "      <th>INJURY RATE</th>\n",
       "      <th>FATALITY RATE</th>\n",
       "    </tr>\n",
       "  </thead>\n",
       "  <tbody>\n",
       "    <tr>\n",
       "      <th>Accelerator Defective</th>\n",
       "      <td>132</td>\n",
       "      <td>0</td>\n",
       "      <td>278</td>\n",
       "      <td>47.482014</td>\n",
       "      <td>0.000000</td>\n",
       "    </tr>\n",
       "    <tr>\n",
       "      <th>Aggressive Driving/Road Rage</th>\n",
       "      <td>1235</td>\n",
       "      <td>4</td>\n",
       "      <td>2858</td>\n",
       "      <td>43.212036</td>\n",
       "      <td>0.139958</td>\n",
       "    </tr>\n",
       "    <tr>\n",
       "      <th>Alcohol Involvement</th>\n",
       "      <td>2783</td>\n",
       "      <td>16</td>\n",
       "      <td>5694</td>\n",
       "      <td>48.876010</td>\n",
       "      <td>0.280998</td>\n",
       "    </tr>\n",
       "    <tr>\n",
       "      <th>Animals Action</th>\n",
       "      <td>93</td>\n",
       "      <td>0</td>\n",
       "      <td>470</td>\n",
       "      <td>19.787234</td>\n",
       "      <td>0.000000</td>\n",
       "    </tr>\n",
       "    <tr>\n",
       "      <th>Backing Unsafely</th>\n",
       "      <td>2737</td>\n",
       "      <td>14</td>\n",
       "      <td>25570</td>\n",
       "      <td>10.703950</td>\n",
       "      <td>0.054752</td>\n",
       "    </tr>\n",
       "    <tr>\n",
       "      <th>Brakes Defective</th>\n",
       "      <td>1021</td>\n",
       "      <td>0</td>\n",
       "      <td>1899</td>\n",
       "      <td>53.765140</td>\n",
       "      <td>0.000000</td>\n",
       "    </tr>\n",
       "    <tr>\n",
       "      <th>Cell Phone (hand-Held)</th>\n",
       "      <td>110</td>\n",
       "      <td>0</td>\n",
       "      <td>211</td>\n",
       "      <td>52.132701</td>\n",
       "      <td>0.000000</td>\n",
       "    </tr>\n",
       "    <tr>\n",
       "      <th>Cell Phone (hands-free)</th>\n",
       "      <td>19</td>\n",
       "      <td>0</td>\n",
       "      <td>30</td>\n",
       "      <td>63.333333</td>\n",
       "      <td>0.000000</td>\n",
       "    </tr>\n",
       "    <tr>\n",
       "      <th>Driver Inattention/Distraction</th>\n",
       "      <td>48516</td>\n",
       "      <td>80</td>\n",
       "      <td>157195</td>\n",
       "      <td>30.863577</td>\n",
       "      <td>0.050892</td>\n",
       "    </tr>\n",
       "    <tr>\n",
       "      <th>Driver Inexperience</th>\n",
       "      <td>2762</td>\n",
       "      <td>18</td>\n",
       "      <td>9250</td>\n",
       "      <td>29.859459</td>\n",
       "      <td>0.194595</td>\n",
       "    </tr>\n",
       "  </tbody>\n",
       "</table>\n",
       "</div>"
      ],
      "text/plain": [
       "                                NUMBER OF PERSONS INJURED  \\\n",
       "Accelerator Defective                                 132   \n",
       "Aggressive Driving/Road Rage                         1235   \n",
       "Alcohol Involvement                                  2783   \n",
       "Animals Action                                         93   \n",
       "Backing Unsafely                                     2737   \n",
       "Brakes Defective                                     1021   \n",
       "Cell Phone (hand-Held)                                110   \n",
       "Cell Phone (hands-free)                                19   \n",
       "Driver Inattention/Distraction                      48516   \n",
       "Driver Inexperience                                  2762   \n",
       "\n",
       "                                NUMBER OF PERSONS KILLED  TOTAL CRASHES  \\\n",
       "Accelerator Defective                                  0            278   \n",
       "Aggressive Driving/Road Rage                           4           2858   \n",
       "Alcohol Involvement                                   16           5694   \n",
       "Animals Action                                         0            470   \n",
       "Backing Unsafely                                      14          25570   \n",
       "Brakes Defective                                       0           1899   \n",
       "Cell Phone (hand-Held)                                 0            211   \n",
       "Cell Phone (hands-free)                                0             30   \n",
       "Driver Inattention/Distraction                        80         157195   \n",
       "Driver Inexperience                                   18           9250   \n",
       "\n",
       "                                INJURY RATE  FATALITY RATE  \n",
       "Accelerator Defective             47.482014       0.000000  \n",
       "Aggressive Driving/Road Rage      43.212036       0.139958  \n",
       "Alcohol Involvement               48.876010       0.280998  \n",
       "Animals Action                    19.787234       0.000000  \n",
       "Backing Unsafely                  10.703950       0.054752  \n",
       "Brakes Defective                  53.765140       0.000000  \n",
       "Cell Phone (hand-Held)            52.132701       0.000000  \n",
       "Cell Phone (hands-free)           63.333333       0.000000  \n",
       "Driver Inattention/Distraction    30.863577       0.050892  \n",
       "Driver Inexperience               29.859459       0.194595  "
      ]
     },
     "execution_count": 58,
     "metadata": {},
     "output_type": "execute_result"
    }
   ],
   "source": [
    "#defining new dataframe for causes\n",
    "common_causes = df[[\"CONTRIBUTING FACTOR VEHICLE 1\", \"CONTRIBUTING FACTOR VEHICLE 2\", \"NUMBER OF PERSONS INJURED\", \"NUMBER OF PERSONS KILLED\"]].copy()\n",
    "common_causes.index.names = ['Cause']\n",
    "\n",
    "#merging and summing two causes columns\n",
    "count_1 = df.set_index('CRASH DATETIME').groupby(pd.Grouper(key=\"CONTRIBUTING FACTOR VEHICLE 1\")).count()\n",
    "count_2 = df.set_index('CRASH DATETIME').groupby(pd.Grouper(key=\"CONTRIBUTING FACTOR VEHICLE 2\")).count()\n",
    "count_1.index.names = ['Cause']\n",
    "count_2.index.names = ['Cause']\n",
    "count = count_1 + count_2\n",
    "\n",
    "common_causes_1 = common_causes.groupby([\"CONTRIBUTING FACTOR VEHICLE 1\"]).sum()\n",
    "common_causes_2 = common_causes.groupby([\"CONTRIBUTING FACTOR VEHICLE 2\"]).sum()\n",
    "common_causes = common_causes_1 + common_causes_2\n",
    "\n",
    "common_causes.loc[:,\"TOTAL CRASHES\"] = count[\"COLLISION_ID\"]\n",
    "\n",
    "#setting common index name\n",
    "common_causes_1.index.names = ['Cause']\n",
    "common_causes_2.index.names = ['Cause']\n",
    "\n",
    "#filling NaNs\n",
    "common_causes = common_causes.fillna(0)\n",
    "\n",
    "#coverting all values to integers\n",
    "common_causes = common_causes.astype(\"int64\")\n",
    "\n",
    "#adding Injury Rate and Fatality Rate columns\n",
    "common_causes[\"INJURY RATE\"] = (common_causes[\"NUMBER OF PERSONS INJURED\"]/common_causes[\"TOTAL CRASHES\"])* 100\n",
    "common_causes[\"FATALITY RATE\"] = (common_causes[\"NUMBER OF PERSONS KILLED\"]/common_causes[\"TOTAL CRASHES\"])* 100\n",
    "\n",
    "#filling NaNs again\n",
    "common_causes = common_causes.fillna(0)\n",
    "\n",
    "common_causes[:10]"
   ]
  },
  {
   "cell_type": "markdown",
   "metadata": {},
   "source": [
    "We see that Driver Inattention/Distraction is by far the most common cause of crash. This is to be expected.\n",
    "\n",
    "Also, this might indicate a fair bit of laziness on the data filler's part, as the top reason is also a very general one.\n",
    "\n",
    "Let's plot our findings."
   ]
  },
  {
   "cell_type": "code",
   "execution_count": 59,
   "metadata": {},
   "outputs": [
    {
     "data": {
      "image/png": "[encoded data removed]",
      "text/plain": [
       "<Figure size 720x720 with 1 Axes>"
      ]
     },
     "metadata": {},
     "output_type": "display_data"
    }
   ],
   "source": [
    "top_crash_causes = common_causes.sort_values(by = ['TOTAL CRASHES'], ascending = False)\n",
    "\n",
    "top_crash_causes = top_crash_causes[:10]\n",
    "\n",
    "fig, ax = plt.subplots()\n",
    "\n",
    "ax.barh(top_crash_causes.index.tolist(), top_crash_causes[\"TOTAL CRASHES\"], align='center')\n",
    "ax.invert_yaxis()  # labels read top-to-bottom\n",
    "ax.set_xlabel('Number of Crashes')\n",
    "ax.set_title('Top 10 Causes of Car Accidents')\n",
    "\n",
    "fig.set_figwidth(10)\n",
    "fig.set_figheight(10)\n",
    "\n",
    "plt.show()"
   ]
  },
  {
   "cell_type": "markdown",
   "metadata": {},
   "source": [
    "#### <center>Top 10 Causes of Injuries</center>"
   ]
  },
  {
   "cell_type": "code",
   "execution_count": 73,
   "metadata": {},
   "outputs": [
    {
     "data": {
      "image/png": "[encoded data removed]",
      "text/plain": [
       "<Figure size 720x720 with 1 Axes>"
      ]
     },
     "metadata": {},
     "output_type": "display_data"
    }
   ],
   "source": [
    "top_injury_causes = common_causes.sort_values(by = ['INJURY RATE'], ascending = False)\n",
    "\n",
    "top_injury_causes = top_injury_causes[:10]\n",
    "\n",
    "fig, ax = plt.subplots()\n",
    "\n",
    "ax.barh(top_crash_causes.index.tolist(), top_injury_causes[\"INJURY RATE\"], align='center')\n",
    "ax.invert_yaxis()  # labels read top-to-bottom\n",
    "ax.set_xlabel('Number of Crashes')\n",
    "ax.set_title('Top 10 Causes of Injuries')\n",
    "\n",
    "fig.set_figwidth(10)\n",
    "fig.set_figheight(10)\n",
    "\n",
    "plt.show()"
   ]
  },
  {
   "cell_type": "markdown",
   "metadata": {},
   "source": [
    "#### <center>Top 10 Causes of Fatalities</center>"
   ]
  },
  {
   "cell_type": "code",
   "execution_count": 74,
   "metadata": {},
   "outputs": [
    {
     "data": {
      "image/png": "[encoded data removed]",
      "text/plain": [
       "<Figure size 720x720 with 1 Axes>"
      ]
     },
     "metadata": {},
     "output_type": "display_data"
    }
   ],
   "source": [
    "top_fatality_causes = common_causes.sort_values(by = ['FATALITY RATE'], ascending = False)\n",
    "\n",
    "top_fatality_causes = top_fatality_causes[:10]\n",
    "\n",
    "fig, ax = plt.subplots()\n",
    "\n",
    "ax.barh(top_crash_causes.index.tolist(), top_fatality_causes[\"FATALITY RATE\"], align='center')\n",
    "ax.invert_yaxis()  # labels read top-to-bottom\n",
    "ax.set_xlabel('Fatality Rate')\n",
    "ax.set_title('Top 10 Causes of Fatalities')\n",
    "\n",
    "fig.set_figwidth(10)\n",
    "fig.set_figheight(10)\n",
    "\n",
    "plt.show()"
   ]
  },
  {
   "cell_type": "markdown",
   "metadata": {},
   "source": [
    "We see a similar distribution of causes when it comes to both injury and fatality rates."
   ]
  },
  {
   "cell_type": "markdown",
   "metadata": {},
   "source": [
    "### Most Common Vehicles\n",
    "\n",
    "We want to find out the top 10 vehicles that are involved in a car crash, as well as statistics on injuries and fatalities. Intuition says sedans and common passenger cars would be at the top due to their popularity. Let's find out."
   ]
  },
  {
   "cell_type": "code",
   "execution_count": 93,
   "metadata": {},
   "outputs": [],
   "source": [
    "#### <center>Top 10 Vehicles in Crashes</center>"
   ]
  },
  {
   "cell_type": "code",
   "execution_count": 94,
   "metadata": {},
   "outputs": [
    {
     "data": {
      "text/html": [
       "<div>\n",
       "<style scoped>\n",
       "    .dataframe tbody tr th:only-of-type {\n",
       "        vertical-align: middle;\n",
       "    }\n",
       "\n",
       "    .dataframe tbody tr th {\n",
       "        vertical-align: top;\n",
       "    }\n",
       "\n",
       "    .dataframe thead th {\n",
       "        text-align: right;\n",
       "    }\n",
       "</style>\n",
       "<table border=\"1\" class=\"dataframe\">\n",
       "  <thead>\n",
       "    <tr style=\"text-align: right;\">\n",
       "      <th></th>\n",
       "      <th>NUMBER OF PERSONS INJURED</th>\n",
       "      <th>NUMBER OF PERSONS KILLED</th>\n",
       "      <th>TOTAL CRASHES</th>\n",
       "      <th>INJURY RATE</th>\n",
       "      <th>FATALITY RATE</th>\n",
       "    </tr>\n",
       "  </thead>\n",
       "  <tbody>\n",
       "    <tr>\n",
       "      <th>Sedan</th>\n",
       "      <td>118537</td>\n",
       "      <td>285</td>\n",
       "      <td>395754</td>\n",
       "      <td>29.952193</td>\n",
       "      <td>0.072014</td>\n",
       "    </tr>\n",
       "    <tr>\n",
       "      <th>Station Wagon/Sport Utility Vehicle</th>\n",
       "      <td>90742</td>\n",
       "      <td>304</td>\n",
       "      <td>322582</td>\n",
       "      <td>28.129902</td>\n",
       "      <td>0.094240</td>\n",
       "    </tr>\n",
       "    <tr>\n",
       "      <th>Taxi</th>\n",
       "      <td>11354</td>\n",
       "      <td>21</td>\n",
       "      <td>40795</td>\n",
       "      <td>27.831842</td>\n",
       "      <td>0.051477</td>\n",
       "    </tr>\n",
       "    <tr>\n",
       "      <th>Pick-up Truck</th>\n",
       "      <td>5662</td>\n",
       "      <td>22</td>\n",
       "      <td>28115</td>\n",
       "      <td>20.138716</td>\n",
       "      <td>0.078250</td>\n",
       "    </tr>\n",
       "    <tr>\n",
       "      <th>Box Truck</th>\n",
       "      <td>2679</td>\n",
       "      <td>23</td>\n",
       "      <td>21409</td>\n",
       "      <td>12.513429</td>\n",
       "      <td>0.107431</td>\n",
       "    </tr>\n",
       "    <tr>\n",
       "      <th>Bike</th>\n",
       "      <td>13198</td>\n",
       "      <td>53</td>\n",
       "      <td>15961</td>\n",
       "      <td>82.689055</td>\n",
       "      <td>0.332059</td>\n",
       "    </tr>\n",
       "    <tr>\n",
       "      <th>Bus</th>\n",
       "      <td>3672</td>\n",
       "      <td>22</td>\n",
       "      <td>15062</td>\n",
       "      <td>24.379233</td>\n",
       "      <td>0.146063</td>\n",
       "    </tr>\n",
       "    <tr>\n",
       "      <th>Tractor Truck Diesel</th>\n",
       "      <td>1105</td>\n",
       "      <td>14</td>\n",
       "      <td>7643</td>\n",
       "      <td>14.457674</td>\n",
       "      <td>0.183174</td>\n",
       "    </tr>\n",
       "    <tr>\n",
       "      <th>Van</th>\n",
       "      <td>1062</td>\n",
       "      <td>6</td>\n",
       "      <td>6014</td>\n",
       "      <td>17.658796</td>\n",
       "      <td>0.099767</td>\n",
       "    </tr>\n",
       "    <tr>\n",
       "      <th>Motorcycle</th>\n",
       "      <td>3090</td>\n",
       "      <td>91</td>\n",
       "      <td>4904</td>\n",
       "      <td>63.009788</td>\n",
       "      <td>1.855628</td>\n",
       "    </tr>\n",
       "  </tbody>\n",
       "</table>\n",
       "</div>"
      ],
      "text/plain": [
       "                                     NUMBER OF PERSONS INJURED  \\\n",
       "Sedan                                                   118537   \n",
       "Station Wagon/Sport Utility Vehicle                      90742   \n",
       "Taxi                                                     11354   \n",
       "Pick-up Truck                                             5662   \n",
       "Box Truck                                                 2679   \n",
       "Bike                                                     13198   \n",
       "Bus                                                       3672   \n",
       "Tractor Truck Diesel                                      1105   \n",
       "Van                                                       1062   \n",
       "Motorcycle                                                3090   \n",
       "\n",
       "                                     NUMBER OF PERSONS KILLED  TOTAL CRASHES  \\\n",
       "Sedan                                                     285         395754   \n",
       "Station Wagon/Sport Utility Vehicle                       304         322582   \n",
       "Taxi                                                       21          40795   \n",
       "Pick-up Truck                                              22          28115   \n",
       "Box Truck                                                  23          21409   \n",
       "Bike                                                       53          15961   \n",
       "Bus                                                        22          15062   \n",
       "Tractor Truck Diesel                                       14           7643   \n",
       "Van                                                         6           6014   \n",
       "Motorcycle                                                 91           4904   \n",
       "\n",
       "                                     INJURY RATE  FATALITY RATE  \n",
       "Sedan                                  29.952193       0.072014  \n",
       "Station Wagon/Sport Utility Vehicle    28.129902       0.094240  \n",
       "Taxi                                   27.831842       0.051477  \n",
       "Pick-up Truck                          20.138716       0.078250  \n",
       "Box Truck                              12.513429       0.107431  \n",
       "Bike                                   82.689055       0.332059  \n",
       "Bus                                    24.379233       0.146063  \n",
       "Tractor Truck Diesel                   14.457674       0.183174  \n",
       "Van                                    17.658796       0.099767  \n",
       "Motorcycle                             63.009788       1.855628  "
      ]
     },
     "execution_count": 94,
     "metadata": {},
     "output_type": "execute_result"
    }
   ],
   "source": [
    "#defining new dataframe for causes\n",
    "common_vehicles = df[[\"VEHICLE TYPE CODE 1\", \"VEHICLE TYPE CODE 2\", \"NUMBER OF PERSONS INJURED\", \"NUMBER OF PERSONS KILLED\"]].copy()\n",
    "common_vehicles.index.names = ['Vehicle']\n",
    "\n",
    "#merging and summing two causes columns\n",
    "\n",
    "count_1 = df.set_index('CRASH DATETIME').groupby(pd.Grouper(key=\"VEHICLE TYPE CODE 1\")).count()\n",
    "count_2 = df.set_index('CRASH DATETIME').groupby(pd.Grouper(key=\"VEHICLE TYPE CODE 2\")).count()\n",
    "count_1.index.names = ['Vehicle']\n",
    "count_2.index.names = ['Vehicle']\n",
    "count = count_1 + count_2\n",
    "\n",
    "common_vehicles_1 = common_vehicles.groupby([\"VEHICLE TYPE CODE 1\"]).sum()\n",
    "common_vehicles_2 = common_vehicles.groupby([\"VEHICLE TYPE CODE 2\"]).sum()\n",
    "common_vehicles = common_vehicles_1 + common_vehicles_2\n",
    "\n",
    "common_vehicles.loc[:,\"TOTAL CRASHES\"] = count[\"COLLISION_ID\"]\n",
    "\n",
    "#setting common index name\n",
    "common_vehicles_1.index.names = ['Vehicle']\n",
    "common_vehicles_2.index.names = ['Vehicle']\n",
    "\n",
    "#filling NaNs\n",
    "common_vehicles = common_vehicles.fillna(0)\n",
    "\n",
    "#coverting all values to integers\n",
    "common_vehicles = common_vehicles.astype(\"int64\")\n",
    "\n",
    "#adding Injury Rate and Fatality Rate columns\n",
    "common_vehicles[\"INJURY RATE\"] = (common_vehicles[\"NUMBER OF PERSONS INJURED\"]/common_vehicles[\"TOTAL CRASHES\"])* 100\n",
    "common_vehicles[\"FATALITY RATE\"] = (common_vehicles[\"NUMBER OF PERSONS KILLED\"]/common_vehicles[\"TOTAL CRASHES\"])* 100\n",
    "\n",
    "#filling NaNs again\n",
    "common_vehicles = common_vehicles.fillna(0)\n",
    "\n",
    "#there are outliers due to spelling mistakes and such, so we'll only consider the top values\n",
    "common_vehicles = common_vehicles.sort_values(by = \"TOTAL CRASHES\", ascending = False)\n",
    "\n",
    "common_vehicles[:10]"
   ]
  },
  {
   "cell_type": "code",
   "execution_count": 95,
   "metadata": {},
   "outputs": [
    {
     "data": {
      "image/png": "[encoded data removed]",
      "text/plain": [
       "<Figure size 720x720 with 1 Axes>"
      ]
     },
     "metadata": {},
     "output_type": "display_data"
    }
   ],
   "source": [
    "top_crash_vehicles = common_vehicles.sort_values(by = ['TOTAL CRASHES'], ascending = False)\n",
    "\n",
    "top_crash_vehicles = top_crash_vehicles[:10]\n",
    "\n",
    "fig, ax = plt.subplots()\n",
    "\n",
    "ax.barh(top_crash_vehicles.index.tolist(), top_crash_vehicles[\"TOTAL CRASHES\"], align='center')\n",
    "ax.invert_yaxis()  # labels read top-to-bottom\n",
    "ax.set_xlabel('Number of Crashes')\n",
    "ax.set_title('Top 10 Vehicles in Car Accidents')\n",
    "\n",
    "fig.set_figwidth(10)\n",
    "fig.set_figheight(10)\n",
    "\n",
    "plt.show()"
   ]
  },
  {
   "cell_type": "markdown",
   "metadata": {},
   "source": [
    "As expected, sedans are the most common vehicle type by far involved in car crashes."
   ]
  },
  {
   "cell_type": "code",
   "execution_count": 96,
   "metadata": {},
   "outputs": [],
   "source": [
    "#### <center>Top 10 Vehicles with High Chance of Injury</center>"
   ]
  },
  {
   "cell_type": "code",
   "execution_count": 91,
   "metadata": {},
   "outputs": [
    {
     "data": {
      "image/png": "[encoded data removed]",
      "text/plain": [
       "<Figure size 720x720 with 1 Axes>"
      ]
     },
     "metadata": {},
     "output_type": "display_data"
    }
   ],
   "source": [
    "#cleaning outliers with low number of records\n",
    "top_injury_vehicles = common_vehicles.drop(common_vehicles[common_vehicles[\"TOTAL CRASHES\"] < 200].index)\n",
    "\n",
    "top_injury_vehicles = top_injury_vehicles.sort_values(by = ['INJURY RATE'], ascending = False)\n",
    "\n",
    "top_injury_vehicles = top_injury_vehicles[:20]\n",
    "\n",
    "#plotting\n",
    "fig, ax = plt.subplots()\n",
    "\n",
    "ax.barh(top_injury_vehicles.index.tolist(), top_injury_vehicles[\"INJURY RATE\"], align='center')\n",
    "ax.invert_yaxis()  # labels read top-to-bottom\n",
    "ax.set_xlabel('Injury Rate')\n",
    "ax.set_title('Top 10 Vehicles with High Chance of Injury')\n",
    "\n",
    "fig.set_figwidth(10)\n",
    "fig.set_figheight(10)\n",
    "\n",
    "plt.show()"
   ]
  },
  {
   "cell_type": "code",
   "execution_count": 90,
   "metadata": {},
   "outputs": [
    {
     "data": {
      "image/png": "[encoded data removed]",
      "text/plain": [
       "<Figure size 720x720 with 1 Axes>"
      ]
     },
     "metadata": {},
     "output_type": "display_data"
    }
   ],
   "source": [
    "#cleaning outliers with low number of records\n",
    "top_fatality_vehicles = common_vehicles.drop(common_vehicles[common_vehicles[\"TOTAL CRASHES\"] < 200].index)\n",
    "\n",
    "top_fatality_vehicles = top_fatality_vehicles.sort_values(by = ['FATALITY RATE'], ascending = False)\n",
    "\n",
    "top_fatality_vehicles = top_fatality_vehicles[:20]\n",
    "\n",
    "#plotting\n",
    "fig, ax = plt.subplots()\n",
    "\n",
    "ax.barh(top_fatality_vehicles.index.tolist(), top_fatality_vehicles[\"FATALITY RATE\"], align='center')\n",
    "ax.invert_yaxis()  # labels read top-to-bottom\n",
    "ax.set_xlabel('Injury Rate')\n",
    "ax.set_title('Top 10 Vehicles with High Chance of Injury')\n",
    "\n",
    "fig.set_figwidth(10)\n",
    "fig.set_figheight(10)\n",
    "\n",
    "plt.show()"
   ]
  },
  {
   "cell_type": "code",
   "execution_count": null,
   "metadata": {},
   "outputs": [],
   "source": []
  }
 ],
 "metadata": {
  "kernelspec": {
   "display_name": "Python 3",
   "language": "python",
   "name": "python3"
  },
  "language_info": {
   "codemirror_mode": {
    "name": "ipython",
    "version": 3
   },
   "file_extension": ".py",
   "mimetype": "text/x-python",
   "name": "python",
   "nbconvert_exporter": "python",
   "pygments_lexer": "ipython3",
   "version": "3.8.3"
  }
 },
 "nbformat": 4,
 "nbformat_minor": 4
}
